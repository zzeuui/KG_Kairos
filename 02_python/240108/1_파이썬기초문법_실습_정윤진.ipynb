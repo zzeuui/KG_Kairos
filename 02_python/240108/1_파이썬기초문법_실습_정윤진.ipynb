{
  "cells": [
    {
      "cell_type": "code",
      "execution_count": 1,
      "metadata": {
        "id": "vD8MIsi7kNo7",
        "colab": {
          "base_uri": "https://localhost:8080/"
        },
        "outputId": "396901f8-be23-449f-bd97-3a427aa90b5b"
      },
      "outputs": [
        {
          "output_type": "stream",
          "name": "stdout",
          "text": [
            "파이썬 버전: 3.10.12 (main, Nov 20 2023, 15:14:05) [GCC 11.4.0]\n",
            "파이썬 실행파일 위치: /usr/bin/python3\n",
            "파이썬 관련 Path: ['/content', '/env/python', '/usr/lib/python310.zip', '/usr/lib/python3.10', '/usr/lib/python3.10/lib-dynload', '', '/usr/local/lib/python3.10/dist-packages', '/usr/lib/python3/dist-packages', '/usr/local/lib/python3.10/dist-packages/IPython/extensions', '/root/.ipython']\n"
          ]
        }
      ],
      "source": [
        "import sys\n",
        "\n",
        "print('파이썬 버전:' , sys.version)\n",
        "print('파이썬 실행파일 위치:' , sys.executable)\n",
        "print('파이썬 관련 Path:' , sys.path)"
      ]
    },
    {
      "cell_type": "markdown",
      "metadata": {
        "id": "dmKU-5iOkeLS"
      },
      "source": [
        "# 1. 파이썬 기초 문법"
      ]
    },
    {
      "cell_type": "markdown",
      "metadata": {
        "id": "d9dW6kUik5zy"
      },
      "source": [
        "## 1-1. 파이썬 소개 및 환경설정"
      ]
    },
    {
      "cell_type": "markdown",
      "metadata": {
        "id": "Rg7wM4ioln5i"
      },
      "source": [
        "### 1) 파이썬 라이브러리 사용 방법"
      ]
    },
    {
      "cell_type": "markdown",
      "metadata": {
        "id": "ybitq5NDn5Vd"
      },
      "source": [
        "- **파이썬 정보 확인하기**"
      ]
    },
    {
      "cell_type": "markdown",
      "metadata": {
        "id": "-XLC19-coD_6"
      },
      "source": [
        "- **설치된 파이썬 라이브러리 확인(전체)**"
      ]
    },
    {
      "cell_type": "code",
      "execution_count": 2,
      "metadata": {
        "id": "M1EYkpqmoT4T",
        "colab": {
          "base_uri": "https://localhost:8080/"
        },
        "outputId": "13df22a9-a118-43ea-aecf-b50166360277"
      },
      "outputs": [
        {
          "output_type": "stream",
          "name": "stdout",
          "text": [
            "Package                          Version\n",
            "-------------------------------- ---------------------\n",
            "absl-py                          1.4.0\n",
            "aiohttp                          3.9.1\n",
            "aiosignal                        1.3.1\n",
            "alabaster                        0.7.13\n",
            "albumentations                   1.3.1\n",
            "altair                           4.2.2\n",
            "anyio                            3.7.1\n",
            "appdirs                          1.4.4\n",
            "argon2-cffi                      23.1.0\n",
            "argon2-cffi-bindings             21.2.0\n",
            "array-record                     0.5.0\n",
            "arviz                            0.15.1\n",
            "astropy                          5.3.4\n",
            "astunparse                       1.6.3\n",
            "async-timeout                    4.0.3\n",
            "atpublic                         4.0\n",
            "attrs                            23.1.0\n",
            "audioread                        3.0.1\n",
            "autograd                         1.6.2\n",
            "Babel                            2.14.0\n",
            "backcall                         0.2.0\n",
            "beautifulsoup4                   4.11.2\n",
            "bidict                           0.22.1\n",
            "bigframes                        0.17.0\n",
            "bleach                           6.1.0\n",
            "blinker                          1.4\n",
            "blis                             0.7.11\n",
            "blosc2                           2.0.0\n",
            "bokeh                            3.3.2\n",
            "bqplot                           0.12.42\n",
            "branca                           0.7.0\n",
            "build                            1.0.3\n",
            "CacheControl                     0.13.1\n",
            "cachetools                       5.3.2\n",
            "catalogue                        2.0.10\n",
            "certifi                          2023.11.17\n",
            "cffi                             1.16.0\n",
            "chardet                          5.2.0\n",
            "charset-normalizer               3.3.2\n",
            "chex                             0.1.7\n",
            "click                            8.1.7\n",
            "click-plugins                    1.1.1\n",
            "cligj                            0.7.2\n",
            "cloudpickle                      2.2.1\n",
            "cmake                            3.27.9\n",
            "cmdstanpy                        1.2.0\n",
            "colorcet                         3.0.1\n",
            "colorlover                       0.3.0\n",
            "colour                           0.1.5\n",
            "community                        1.0.0b1\n",
            "confection                       0.1.4\n",
            "cons                             0.4.6\n",
            "contextlib2                      21.6.0\n",
            "contourpy                        1.2.0\n",
            "cryptography                     41.0.7\n",
            "cufflinks                        0.17.3\n",
            "cupy-cuda12x                     12.2.0\n",
            "cvxopt                           1.3.2\n",
            "cvxpy                            1.3.2\n",
            "cycler                           0.12.1\n",
            "cymem                            2.0.8\n",
            "Cython                           3.0.7\n",
            "dask                             2023.8.1\n",
            "datascience                      0.17.6\n",
            "db-dtypes                        1.2.0\n",
            "dbus-python                      1.2.18\n",
            "debugpy                          1.6.6\n",
            "decorator                        4.4.2\n",
            "defusedxml                       0.7.1\n",
            "diskcache                        5.6.3\n",
            "distributed                      2023.8.1\n",
            "distro                           1.7.0\n",
            "dlib                             19.24.2\n",
            "dm-tree                          0.1.8\n",
            "docutils                         0.18.1\n",
            "dopamine-rl                      4.0.6\n",
            "duckdb                           0.9.2\n",
            "earthengine-api                  0.1.384\n",
            "easydict                         1.11\n",
            "ecos                             2.0.12\n",
            "editdistance                     0.6.2\n",
            "eerepr                           0.0.4\n",
            "en-core-web-sm                   3.6.0\n",
            "entrypoints                      0.4\n",
            "et-xmlfile                       1.1.0\n",
            "etils                            1.6.0\n",
            "etuples                          0.3.9\n",
            "exceptiongroup                   1.2.0\n",
            "fastai                           2.7.13\n",
            "fastcore                         1.5.29\n",
            "fastdownload                     0.0.7\n",
            "fastjsonschema                   2.19.0\n",
            "fastprogress                     1.0.3\n",
            "fastrlock                        0.8.2\n",
            "filelock                         3.13.1\n",
            "fiona                            1.9.5\n",
            "firebase-admin                   5.3.0\n",
            "Flask                            2.2.5\n",
            "flatbuffers                      23.5.26\n",
            "flax                             0.7.5\n",
            "folium                           0.14.0\n",
            "fonttools                        4.47.0\n",
            "frozendict                       2.3.10\n",
            "frozenlist                       1.4.1\n",
            "fsspec                           2023.6.0\n",
            "future                           0.18.3\n",
            "gast                             0.5.4\n",
            "gcsfs                            2023.6.0\n",
            "GDAL                             3.4.3\n",
            "gdown                            4.6.6\n",
            "geemap                           0.29.6\n",
            "gensim                           4.3.2\n",
            "geocoder                         1.38.1\n",
            "geographiclib                    2.0\n",
            "geopandas                        0.13.2\n",
            "geopy                            2.3.0\n",
            "gin-config                       0.5.0\n",
            "glob2                            0.7\n",
            "google                           2.0.3\n",
            "google-ai-generativelanguage     0.4.0\n",
            "google-api-core                  2.11.1\n",
            "google-api-python-client         2.84.0\n",
            "google-auth                      2.17.3\n",
            "google-auth-httplib2             0.1.1\n",
            "google-auth-oauthlib             1.2.0\n",
            "google-cloud-aiplatform          1.38.1\n",
            "google-cloud-bigquery            3.12.0\n",
            "google-cloud-bigquery-connection 1.12.1\n",
            "google-cloud-bigquery-storage    2.24.0\n",
            "google-cloud-core                2.3.3\n",
            "google-cloud-datastore           2.15.2\n",
            "google-cloud-firestore           2.11.1\n",
            "google-cloud-functions           1.13.3\n",
            "google-cloud-iam                 2.13.0\n",
            "google-cloud-language            2.9.1\n",
            "google-cloud-resource-manager    1.11.0\n",
            "google-cloud-storage             2.8.0\n",
            "google-cloud-translate           3.11.3\n",
            "google-colab                     1.0.0\n",
            "google-crc32c                    1.5.0\n",
            "google-generativeai              0.3.2\n",
            "google-pasta                     0.2.0\n",
            "google-resumable-media           2.7.0\n",
            "googleapis-common-protos         1.62.0\n",
            "googledrivedownloader            0.4\n",
            "graphviz                         0.20.1\n",
            "greenlet                         3.0.2\n",
            "grpc-google-iam-v1               0.13.0\n",
            "grpcio                           1.60.0\n",
            "grpcio-status                    1.48.2\n",
            "gspread                          3.4.2\n",
            "gspread-dataframe                3.3.1\n",
            "gym                              0.25.2\n",
            "gym-notices                      0.0.8\n",
            "h5netcdf                         1.3.0\n",
            "h5py                             3.9.0\n",
            "holidays                         0.39\n",
            "holoviews                        1.17.1\n",
            "html5lib                         1.1\n",
            "httpimport                       1.3.1\n",
            "httplib2                         0.22.0\n",
            "huggingface-hub                  0.20.1\n",
            "humanize                         4.7.0\n",
            "hyperopt                         0.2.7\n",
            "ibis-framework                   6.2.0\n",
            "idna                             3.6\n",
            "imageio                          2.31.6\n",
            "imageio-ffmpeg                   0.4.9\n",
            "imagesize                        1.4.1\n",
            "imbalanced-learn                 0.10.1\n",
            "imgaug                           0.4.0\n",
            "importlib-metadata               7.0.0\n",
            "importlib-resources              6.1.1\n",
            "imutils                          0.5.4\n",
            "inflect                          7.0.0\n",
            "iniconfig                        2.0.0\n",
            "install                          1.3.5\n",
            "intel-openmp                     2023.2.3\n",
            "ipyevents                        2.0.2\n",
            "ipyfilechooser                   0.6.0\n",
            "ipykernel                        5.5.6\n",
            "ipyleaflet                       0.18.1\n",
            "ipython                          7.34.0\n",
            "ipython-genutils                 0.2.0\n",
            "ipython-sql                      0.5.0\n",
            "ipytree                          0.2.2\n",
            "ipywidgets                       7.7.1\n",
            "itsdangerous                     2.1.2\n",
            "jax                              0.4.23\n",
            "jaxlib                           0.4.23+cuda12.cudnn89\n",
            "jeepney                          0.7.1\n",
            "jieba                            0.42.1\n",
            "Jinja2                           3.1.2\n",
            "joblib                           1.3.2\n",
            "jsonpickle                       3.0.2\n",
            "jsonschema                       4.19.2\n",
            "jsonschema-specifications        2023.11.2\n",
            "jupyter-client                   6.1.12\n",
            "jupyter-console                  6.1.0\n",
            "jupyter_core                     5.5.1\n",
            "jupyter-server                   1.24.0\n",
            "jupyterlab_pygments              0.3.0\n",
            "jupyterlab-widgets               3.0.9\n",
            "kaggle                           1.5.16\n",
            "kagglehub                        0.1.4\n",
            "keras                            2.15.0\n",
            "keyring                          23.5.0\n",
            "kiwisolver                       1.4.5\n",
            "langcodes                        3.3.0\n",
            "launchpadlib                     1.10.16\n",
            "lazr.restfulclient               0.14.4\n",
            "lazr.uri                         1.0.6\n",
            "lazy_loader                      0.3\n",
            "libclang                         16.0.6\n",
            "librosa                          0.10.1\n",
            "lida                             0.0.10\n",
            "lightgbm                         4.1.0\n",
            "linkify-it-py                    2.0.2\n",
            "llmx                             0.0.15a0\n",
            "llvmlite                         0.41.1\n",
            "locket                           1.0.0\n",
            "logical-unification              0.4.6\n",
            "lxml                             4.9.4\n",
            "malloy                           2023.1067\n",
            "Markdown                         3.5.1\n",
            "markdown-it-py                   3.0.0\n",
            "MarkupSafe                       2.1.3\n",
            "matplotlib                       3.7.1\n",
            "matplotlib-inline                0.1.6\n",
            "matplotlib-venn                  0.11.9\n",
            "mdit-py-plugins                  0.4.0\n",
            "mdurl                            0.1.2\n",
            "miniKanren                       1.0.3\n",
            "missingno                        0.5.2\n",
            "mistune                          0.8.4\n",
            "mizani                           0.9.3\n",
            "mkl                              2023.2.0\n",
            "ml-dtypes                        0.2.0\n",
            "mlxtend                          0.22.0\n",
            "more-itertools                   10.1.0\n",
            "moviepy                          1.0.3\n",
            "mpmath                           1.3.0\n",
            "msgpack                          1.0.7\n",
            "multidict                        6.0.4\n",
            "multipledispatch                 1.0.0\n",
            "multitasking                     0.0.11\n",
            "murmurhash                       1.0.10\n",
            "music21                          9.1.0\n",
            "natsort                          8.4.0\n",
            "nbclassic                        1.0.0\n",
            "nbclient                         0.9.0\n",
            "nbconvert                        6.5.4\n",
            "nbformat                         5.9.2\n",
            "nest-asyncio                     1.5.8\n",
            "networkx                         3.2.1\n",
            "nibabel                          4.0.2\n",
            "nltk                             3.8.1\n",
            "notebook                         6.5.5\n",
            "notebook_shim                    0.2.3\n",
            "numba                            0.58.1\n",
            "numexpr                          2.8.8\n",
            "numpy                            1.23.5\n",
            "oauth2client                     4.1.3\n",
            "oauthlib                         3.2.2\n",
            "opencv-contrib-python            4.8.0.76\n",
            "opencv-python                    4.8.0.76\n",
            "opencv-python-headless           4.8.1.78\n",
            "openpyxl                         3.1.2\n",
            "opt-einsum                       3.3.0\n",
            "optax                            0.1.7\n",
            "orbax-checkpoint                 0.4.4\n",
            "osqp                             0.6.2.post8\n",
            "packaging                        23.2\n",
            "pandas                           1.5.3\n",
            "pandas-datareader                0.10.0\n",
            "pandas-gbq                       0.19.2\n",
            "pandas-stubs                     1.5.3.230304\n",
            "pandocfilters                    1.5.0\n",
            "panel                            1.3.6\n",
            "param                            2.0.1\n",
            "parso                            0.8.3\n",
            "parsy                            2.1\n",
            "partd                            1.4.1\n",
            "pathlib                          1.0.1\n",
            "pathy                            0.10.3\n",
            "patsy                            0.5.4\n",
            "peewee                           3.17.0\n",
            "pexpect                          4.9.0\n",
            "pickleshare                      0.7.5\n",
            "Pillow                           9.4.0\n",
            "pip                              23.1.2\n",
            "pip-tools                        6.13.0\n",
            "platformdirs                     4.1.0\n",
            "plotly                           5.15.0\n",
            "plotnine                         0.12.4\n",
            "pluggy                           1.3.0\n",
            "polars                           0.17.3\n",
            "pooch                            1.8.0\n",
            "portpicker                       1.5.2\n",
            "prefetch-generator               1.0.3\n",
            "preshed                          3.0.9\n",
            "prettytable                      3.9.0\n",
            "proglog                          0.1.10\n",
            "progressbar2                     4.2.0\n",
            "prometheus-client                0.19.0\n",
            "promise                          2.3\n",
            "prompt-toolkit                   3.0.43\n",
            "prophet                          1.1.5\n",
            "proto-plus                       1.23.0\n",
            "protobuf                         3.20.3\n",
            "psutil                           5.9.5\n",
            "psycopg2                         2.9.9\n",
            "ptyprocess                       0.7.0\n",
            "py-cpuinfo                       9.0.0\n",
            "py4j                             0.10.9.7\n",
            "pyarrow                          10.0.1\n",
            "pyasn1                           0.5.1\n",
            "pyasn1-modules                   0.3.0\n",
            "pycocotools                      2.0.7\n",
            "pycparser                        2.21\n",
            "pyct                             0.5.0\n",
            "pydantic                         1.10.13\n",
            "pydata-google-auth               1.8.2\n",
            "pydot                            1.4.2\n",
            "pydot-ng                         2.0.0\n",
            "pydotplus                        2.0.2\n",
            "PyDrive                          1.3.1\n",
            "PyDrive2                         1.6.3\n",
            "pyerfa                           2.0.1.1\n",
            "pygame                           2.5.2\n",
            "Pygments                         2.16.1\n",
            "PyGObject                        3.42.1\n",
            "PyJWT                            2.3.0\n",
            "pymc                             5.7.2\n",
            "pymystem3                        0.2.0\n",
            "PyOpenGL                         3.1.7\n",
            "pyOpenSSL                        23.3.0\n",
            "pyparsing                        3.1.1\n",
            "pyperclip                        1.8.2\n",
            "pyproj                           3.6.1\n",
            "pyproject_hooks                  1.0.0\n",
            "pyshp                            2.3.1\n",
            "PySocks                          1.7.1\n",
            "pytensor                         2.14.2\n",
            "pytest                           7.4.3\n",
            "python-apt                       0.0.0\n",
            "python-box                       7.1.1\n",
            "python-dateutil                  2.8.2\n",
            "python-louvain                   0.16\n",
            "python-slugify                   8.0.1\n",
            "python-utils                     3.8.1\n",
            "pytz                             2023.3.post1\n",
            "pyviz_comms                      3.0.0\n",
            "PyWavelets                       1.5.0\n",
            "PyYAML                           6.0.1\n",
            "pyzmq                            23.2.1\n",
            "qdldl                            0.1.7.post0\n",
            "qudida                           0.0.4\n",
            "ratelim                          0.1.6\n",
            "referencing                      0.32.0\n",
            "regex                            2023.6.3\n",
            "requests                         2.31.0\n",
            "requests-oauthlib                1.3.1\n",
            "requirements-parser              0.5.0\n",
            "rich                             13.7.0\n",
            "rpds-py                          0.15.2\n",
            "rpy2                             3.4.2\n",
            "rsa                              4.9\n",
            "safetensors                      0.4.1\n",
            "scikit-image                     0.19.3\n",
            "scikit-learn                     1.2.2\n",
            "scipy                            1.11.4\n",
            "scooby                           0.9.2\n",
            "scs                              3.2.4.post1\n",
            "seaborn                          0.12.2\n",
            "SecretStorage                    3.3.1\n",
            "Send2Trash                       1.8.2\n",
            "setuptools                       67.7.2\n",
            "shapely                          2.0.2\n",
            "six                              1.16.0\n",
            "sklearn-pandas                   2.2.0\n",
            "smart-open                       6.4.0\n",
            "sniffio                          1.3.0\n",
            "snowballstemmer                  2.2.0\n",
            "sortedcontainers                 2.4.0\n",
            "soundfile                        0.12.1\n",
            "soupsieve                        2.5\n",
            "soxr                             0.3.7\n",
            "spacy                            3.6.1\n",
            "spacy-legacy                     3.0.12\n",
            "spacy-loggers                    1.0.5\n",
            "Sphinx                           5.0.2\n",
            "sphinxcontrib-applehelp          1.0.7\n",
            "sphinxcontrib-devhelp            1.0.5\n",
            "sphinxcontrib-htmlhelp           2.0.4\n",
            "sphinxcontrib-jsmath             1.0.1\n",
            "sphinxcontrib-qthelp             1.0.6\n",
            "sphinxcontrib-serializinghtml    1.1.9\n",
            "SQLAlchemy                       2.0.23\n",
            "sqlglot                          17.16.2\n",
            "sqlparse                         0.4.4\n",
            "srsly                            2.4.8\n",
            "stanio                           0.3.0\n",
            "statsmodels                      0.14.1\n",
            "sympy                            1.12\n",
            "tables                           3.8.0\n",
            "tabulate                         0.9.0\n",
            "tbb                              2021.11.0\n",
            "tblib                            3.0.0\n",
            "tenacity                         8.2.3\n",
            "tensorboard                      2.15.1\n",
            "tensorboard-data-server          0.7.2\n",
            "tensorflow                       2.15.0\n",
            "tensorflow-datasets              4.9.4\n",
            "tensorflow-estimator             2.15.0\n",
            "tensorflow-gcs-config            2.15.0\n",
            "tensorflow-hub                   0.15.0\n",
            "tensorflow-io-gcs-filesystem     0.35.0\n",
            "tensorflow-metadata              1.14.0\n",
            "tensorflow-probability           0.22.0\n",
            "tensorstore                      0.1.45\n",
            "termcolor                        2.4.0\n",
            "terminado                        0.18.0\n",
            "text-unidecode                   1.3\n",
            "textblob                         0.17.1\n",
            "tf-slim                          1.1.0\n",
            "thinc                            8.1.12\n",
            "threadpoolctl                    3.2.0\n",
            "tifffile                         2023.12.9\n",
            "tinycss2                         1.2.1\n",
            "tokenizers                       0.15.0\n",
            "toml                             0.10.2\n",
            "tomli                            2.0.1\n",
            "toolz                            0.12.0\n",
            "torch                            2.1.0+cu121\n",
            "torchaudio                       2.1.0+cu121\n",
            "torchdata                        0.7.0\n",
            "torchsummary                     1.5.1\n",
            "torchtext                        0.16.0\n",
            "torchvision                      0.16.0+cu121\n",
            "tornado                          6.3.2\n",
            "tqdm                             4.66.1\n",
            "traitlets                        5.7.1\n",
            "traittypes                       0.2.1\n",
            "transformers                     4.35.2\n",
            "triton                           2.1.0\n",
            "tweepy                           4.14.0\n",
            "typer                            0.9.0\n",
            "types-pytz                       2023.3.1.1\n",
            "types-setuptools                 69.0.0.0\n",
            "typing_extensions                4.5.0\n",
            "tzlocal                          5.2\n",
            "uc-micro-py                      1.0.2\n",
            "uritemplate                      4.1.1\n",
            "urllib3                          2.0.7\n",
            "vega-datasets                    0.9.0\n",
            "wadllib                          1.3.6\n",
            "wasabi                           1.1.2\n",
            "wcwidth                          0.2.12\n",
            "webcolors                        1.13\n",
            "webencodings                     0.5.1\n",
            "websocket-client                 1.7.0\n",
            "Werkzeug                         3.0.1\n",
            "wheel                            0.42.0\n",
            "widgetsnbextension               3.6.6\n",
            "wordcloud                        1.9.3\n",
            "wrapt                            1.14.1\n",
            "xarray                           2023.7.0\n",
            "xarray-einstats                  0.6.0\n",
            "xgboost                          2.0.3\n",
            "xlrd                             2.0.1\n",
            "xxhash                           3.4.1\n",
            "xyzservices                      2023.10.1\n",
            "yarl                             1.9.4\n",
            "yellowbrick                      1.5\n",
            "yfinance                         0.2.33\n",
            "zict                             3.0.0\n",
            "zipp                             3.17.0\n"
          ]
        }
      ],
      "source": [
        "!pip list"
      ]
    },
    {
      "cell_type": "markdown",
      "metadata": {
        "id": "FjHYYO_DoUL3"
      },
      "source": [
        "- **설치된 파이썬 라이브러리 확인(특정한 라이브러리)**"
      ]
    },
    {
      "cell_type": "code",
      "execution_count": 3,
      "metadata": {
        "id": "9MViFeSPoUXO",
        "colab": {
          "base_uri": "https://localhost:8080/"
        },
        "outputId": "a0d45056-6756-4446-833b-5be63752faec"
      },
      "outputs": [
        {
          "output_type": "stream",
          "name": "stdout",
          "text": [
            "Name: numpy\n",
            "Version: 1.23.5\n",
            "Summary: NumPy is the fundamental package for array computing with Python.\n",
            "Home-page: https://www.numpy.org\n",
            "Author: Travis E. Oliphant et al.\n",
            "Author-email: \n",
            "License: BSD\n",
            "Location: /usr/local/lib/python3.10/dist-packages\n",
            "Requires: \n",
            "Required-by: albumentations, altair, arviz, astropy, autograd, blis, bokeh, bqplot, chex, cmdstanpy, contourpy, cufflinks, cupy-cuda12x, cvxpy, datascience, db-dtypes, dopamine-rl, ecos, flax, folium, geemap, gensim, gym, h5py, holoviews, hyperopt, ibis-framework, imageio, imbalanced-learn, imgaug, jax, jaxlib, librosa, lida, lightgbm, matplotlib, matplotlib-venn, missingno, mizani, ml-dtypes, mlxtend, moviepy, music21, nibabel, numba, numexpr, opencv-contrib-python, opencv-python, opencv-python-headless, opt-einsum, optax, orbax-checkpoint, osqp, pandas, pandas-gbq, patsy, plotnine, prophet, pyarrow, pycocotools, pyerfa, pymc, pytensor, python-louvain, PyWavelets, qdldl, qudida, scikit-image, scikit-learn, scipy, scs, seaborn, shapely, sklearn-pandas, soxr, spacy, stanio, statsmodels, tables, tensorboard, tensorflow, tensorflow-datasets, tensorflow-hub, tensorflow-probability, tensorstore, thinc, tifffile, torchtext, torchvision, transformers, wordcloud, xarray, xarray-einstats, xgboost, yellowbrick, yfinance\n"
          ]
        }
      ],
      "source": [
        "!pip show numpy"
      ]
    },
    {
      "cell_type": "markdown",
      "metadata": {
        "id": "A_scKVnNpEng"
      },
      "source": [
        "- **파이썬 라이브러리 삭제하기**"
      ]
    },
    {
      "cell_type": "code",
      "execution_count": null,
      "metadata": {
        "id": "rPLoMtclpEAs"
      },
      "outputs": [],
      "source": [
        "!pip uninstall numpy"
      ]
    },
    {
      "cell_type": "markdown",
      "metadata": {
        "id": "xxZVgqNeoUms"
      },
      "source": [
        "- **파이썬 라이브러리 설치하기**"
      ]
    },
    {
      "cell_type": "code",
      "execution_count": null,
      "metadata": {
        "id": "YRWXUTbdpZu7"
      },
      "outputs": [],
      "source": [
        "!pip show numpy"
      ]
    },
    {
      "cell_type": "markdown",
      "metadata": {
        "id": "9y64JOE7lvmg"
      },
      "source": [
        "### **[미션]** 파이썬 정보 확인하기"
      ]
    },
    {
      "cell_type": "markdown",
      "metadata": {
        "id": "OjbwCCmpmA4M"
      },
      "source": [
        "\n",
        "\n",
        "1.   파이썬 버전 확인하는 명령어는?\n",
        "\n"
      ]
    },
    {
      "cell_type": "code",
      "execution_count": 4,
      "metadata": {
        "id": "7T7h_MG6mUrA",
        "colab": {
          "base_uri": "https://localhost:8080/"
        },
        "outputId": "64d5a562-0995-430b-e002-fea971450af4"
      },
      "outputs": [
        {
          "output_type": "stream",
          "name": "stdout",
          "text": [
            "Python 3.10.12\n"
          ]
        }
      ],
      "source": [
        "!python --version"
      ]
    },
    {
      "cell_type": "markdown",
      "metadata": {
        "id": "3sLxUxhEmGGK"
      },
      "source": [
        "2. 파이썬 실행 파일 또는 설치 위치 확인하는 명령어는?"
      ]
    },
    {
      "cell_type": "code",
      "execution_count": 8,
      "metadata": {
        "id": "pq-hWEbDmVCV",
        "colab": {
          "base_uri": "https://localhost:8080/",
          "height": 35
        },
        "outputId": "c41ed49e-6811-4d4f-a16a-57b29bee3d09"
      },
      "outputs": [
        {
          "output_type": "execute_result",
          "data": {
            "text/plain": [
              "'/usr/bin/python3'"
            ],
            "application/vnd.google.colaboratory.intrinsic+json": {
              "type": "string"
            }
          },
          "metadata": {},
          "execution_count": 8
        }
      ],
      "source": [
        "import sys\n",
        "sys.executable"
      ]
    },
    {
      "cell_type": "markdown",
      "metadata": {
        "id": "UnQphcEdmORF"
      },
      "source": [
        "3. 설치된 파이썬 라이브러리 목록 확인하는 명령어는?"
      ]
    },
    {
      "cell_type": "code",
      "execution_count": 7,
      "metadata": {
        "id": "lxuh0G9_mVhJ",
        "colab": {
          "base_uri": "https://localhost:8080/"
        },
        "outputId": "1993d626-ad7e-4849-c97e-c15bd20f8ff0"
      },
      "outputs": [
        {
          "output_type": "stream",
          "name": "stdout",
          "text": [
            "Package                          Version\n",
            "-------------------------------- ---------------------\n",
            "absl-py                          1.4.0\n",
            "aiohttp                          3.9.1\n",
            "aiosignal                        1.3.1\n",
            "alabaster                        0.7.13\n",
            "albumentations                   1.3.1\n",
            "altair                           4.2.2\n",
            "anyio                            3.7.1\n",
            "appdirs                          1.4.4\n",
            "argon2-cffi                      23.1.0\n",
            "argon2-cffi-bindings             21.2.0\n",
            "array-record                     0.5.0\n",
            "arviz                            0.15.1\n",
            "astropy                          5.3.4\n",
            "astunparse                       1.6.3\n",
            "async-timeout                    4.0.3\n",
            "atpublic                         4.0\n",
            "attrs                            23.1.0\n",
            "audioread                        3.0.1\n",
            "autograd                         1.6.2\n",
            "Babel                            2.14.0\n",
            "backcall                         0.2.0\n",
            "beautifulsoup4                   4.11.2\n",
            "bidict                           0.22.1\n",
            "bigframes                        0.17.0\n",
            "bleach                           6.1.0\n",
            "blinker                          1.4\n",
            "blis                             0.7.11\n",
            "blosc2                           2.0.0\n",
            "bokeh                            3.3.2\n",
            "bqplot                           0.12.42\n",
            "branca                           0.7.0\n",
            "build                            1.0.3\n",
            "CacheControl                     0.13.1\n",
            "cachetools                       5.3.2\n",
            "catalogue                        2.0.10\n",
            "certifi                          2023.11.17\n",
            "cffi                             1.16.0\n",
            "chardet                          5.2.0\n",
            "charset-normalizer               3.3.2\n",
            "chex                             0.1.7\n",
            "click                            8.1.7\n",
            "click-plugins                    1.1.1\n",
            "cligj                            0.7.2\n",
            "cloudpickle                      2.2.1\n",
            "cmake                            3.27.9\n",
            "cmdstanpy                        1.2.0\n",
            "colorcet                         3.0.1\n",
            "colorlover                       0.3.0\n",
            "colour                           0.1.5\n",
            "community                        1.0.0b1\n",
            "confection                       0.1.4\n",
            "cons                             0.4.6\n",
            "contextlib2                      21.6.0\n",
            "contourpy                        1.2.0\n",
            "cryptography                     41.0.7\n",
            "cufflinks                        0.17.3\n",
            "cupy-cuda12x                     12.2.0\n",
            "cvxopt                           1.3.2\n",
            "cvxpy                            1.3.2\n",
            "cycler                           0.12.1\n",
            "cymem                            2.0.8\n",
            "Cython                           3.0.7\n",
            "dask                             2023.8.1\n",
            "datascience                      0.17.6\n",
            "db-dtypes                        1.2.0\n",
            "dbus-python                      1.2.18\n",
            "debugpy                          1.6.6\n",
            "decorator                        4.4.2\n",
            "defusedxml                       0.7.1\n",
            "diskcache                        5.6.3\n",
            "distributed                      2023.8.1\n",
            "distro                           1.7.0\n",
            "dlib                             19.24.2\n",
            "dm-tree                          0.1.8\n",
            "docutils                         0.18.1\n",
            "dopamine-rl                      4.0.6\n",
            "duckdb                           0.9.2\n",
            "earthengine-api                  0.1.384\n",
            "easydict                         1.11\n",
            "ecos                             2.0.12\n",
            "editdistance                     0.6.2\n",
            "eerepr                           0.0.4\n",
            "en-core-web-sm                   3.6.0\n",
            "entrypoints                      0.4\n",
            "et-xmlfile                       1.1.0\n",
            "etils                            1.6.0\n",
            "etuples                          0.3.9\n",
            "exceptiongroup                   1.2.0\n",
            "fastai                           2.7.13\n",
            "fastcore                         1.5.29\n",
            "fastdownload                     0.0.7\n",
            "fastjsonschema                   2.19.0\n",
            "fastprogress                     1.0.3\n",
            "fastrlock                        0.8.2\n",
            "filelock                         3.13.1\n",
            "fiona                            1.9.5\n",
            "firebase-admin                   5.3.0\n",
            "Flask                            2.2.5\n",
            "flatbuffers                      23.5.26\n",
            "flax                             0.7.5\n",
            "folium                           0.14.0\n",
            "fonttools                        4.47.0\n",
            "frozendict                       2.3.10\n",
            "frozenlist                       1.4.1\n",
            "fsspec                           2023.6.0\n",
            "future                           0.18.3\n",
            "gast                             0.5.4\n",
            "gcsfs                            2023.6.0\n",
            "GDAL                             3.4.3\n",
            "gdown                            4.6.6\n",
            "geemap                           0.29.6\n",
            "gensim                           4.3.2\n",
            "geocoder                         1.38.1\n",
            "geographiclib                    2.0\n",
            "geopandas                        0.13.2\n",
            "geopy                            2.3.0\n",
            "gin-config                       0.5.0\n",
            "glob2                            0.7\n",
            "google                           2.0.3\n",
            "google-ai-generativelanguage     0.4.0\n",
            "google-api-core                  2.11.1\n",
            "google-api-python-client         2.84.0\n",
            "google-auth                      2.17.3\n",
            "google-auth-httplib2             0.1.1\n",
            "google-auth-oauthlib             1.2.0\n",
            "google-cloud-aiplatform          1.38.1\n",
            "google-cloud-bigquery            3.12.0\n",
            "google-cloud-bigquery-connection 1.12.1\n",
            "google-cloud-bigquery-storage    2.24.0\n",
            "google-cloud-core                2.3.3\n",
            "google-cloud-datastore           2.15.2\n",
            "google-cloud-firestore           2.11.1\n",
            "google-cloud-functions           1.13.3\n",
            "google-cloud-iam                 2.13.0\n",
            "google-cloud-language            2.9.1\n",
            "google-cloud-resource-manager    1.11.0\n",
            "google-cloud-storage             2.8.0\n",
            "google-cloud-translate           3.11.3\n",
            "google-colab                     1.0.0\n",
            "google-crc32c                    1.5.0\n",
            "google-generativeai              0.3.2\n",
            "google-pasta                     0.2.0\n",
            "google-resumable-media           2.7.0\n",
            "googleapis-common-protos         1.62.0\n",
            "googledrivedownloader            0.4\n",
            "graphviz                         0.20.1\n",
            "greenlet                         3.0.2\n",
            "grpc-google-iam-v1               0.13.0\n",
            "grpcio                           1.60.0\n",
            "grpcio-status                    1.48.2\n",
            "gspread                          3.4.2\n",
            "gspread-dataframe                3.3.1\n",
            "gym                              0.25.2\n",
            "gym-notices                      0.0.8\n",
            "h5netcdf                         1.3.0\n",
            "h5py                             3.9.0\n",
            "holidays                         0.39\n",
            "holoviews                        1.17.1\n",
            "html5lib                         1.1\n",
            "httpimport                       1.3.1\n",
            "httplib2                         0.22.0\n",
            "huggingface-hub                  0.20.1\n",
            "humanize                         4.7.0\n",
            "hyperopt                         0.2.7\n",
            "ibis-framework                   6.2.0\n",
            "idna                             3.6\n",
            "imageio                          2.31.6\n",
            "imageio-ffmpeg                   0.4.9\n",
            "imagesize                        1.4.1\n",
            "imbalanced-learn                 0.10.1\n",
            "imgaug                           0.4.0\n",
            "importlib-metadata               7.0.0\n",
            "importlib-resources              6.1.1\n",
            "imutils                          0.5.4\n",
            "inflect                          7.0.0\n",
            "iniconfig                        2.0.0\n",
            "install                          1.3.5\n",
            "intel-openmp                     2023.2.3\n",
            "ipyevents                        2.0.2\n",
            "ipyfilechooser                   0.6.0\n",
            "ipykernel                        5.5.6\n",
            "ipyleaflet                       0.18.1\n",
            "ipython                          7.34.0\n",
            "ipython-genutils                 0.2.0\n",
            "ipython-sql                      0.5.0\n",
            "ipytree                          0.2.2\n",
            "ipywidgets                       7.7.1\n",
            "itsdangerous                     2.1.2\n",
            "jax                              0.4.23\n",
            "jaxlib                           0.4.23+cuda12.cudnn89\n",
            "jeepney                          0.7.1\n",
            "jieba                            0.42.1\n",
            "Jinja2                           3.1.2\n",
            "joblib                           1.3.2\n",
            "jsonpickle                       3.0.2\n",
            "jsonschema                       4.19.2\n",
            "jsonschema-specifications        2023.11.2\n",
            "jupyter-client                   6.1.12\n",
            "jupyter-console                  6.1.0\n",
            "jupyter_core                     5.5.1\n",
            "jupyter-server                   1.24.0\n",
            "jupyterlab_pygments              0.3.0\n",
            "jupyterlab-widgets               3.0.9\n",
            "kaggle                           1.5.16\n",
            "kagglehub                        0.1.4\n",
            "keras                            2.15.0\n",
            "keyring                          23.5.0\n",
            "kiwisolver                       1.4.5\n",
            "langcodes                        3.3.0\n",
            "launchpadlib                     1.10.16\n",
            "lazr.restfulclient               0.14.4\n",
            "lazr.uri                         1.0.6\n",
            "lazy_loader                      0.3\n",
            "libclang                         16.0.6\n",
            "librosa                          0.10.1\n",
            "lida                             0.0.10\n",
            "lightgbm                         4.1.0\n",
            "linkify-it-py                    2.0.2\n",
            "llmx                             0.0.15a0\n",
            "llvmlite                         0.41.1\n",
            "locket                           1.0.0\n",
            "logical-unification              0.4.6\n",
            "lxml                             4.9.4\n",
            "malloy                           2023.1067\n",
            "Markdown                         3.5.1\n",
            "markdown-it-py                   3.0.0\n",
            "MarkupSafe                       2.1.3\n",
            "matplotlib                       3.7.1\n",
            "matplotlib-inline                0.1.6\n",
            "matplotlib-venn                  0.11.9\n",
            "mdit-py-plugins                  0.4.0\n",
            "mdurl                            0.1.2\n",
            "miniKanren                       1.0.3\n",
            "missingno                        0.5.2\n",
            "mistune                          0.8.4\n",
            "mizani                           0.9.3\n",
            "mkl                              2023.2.0\n",
            "ml-dtypes                        0.2.0\n",
            "mlxtend                          0.22.0\n",
            "more-itertools                   10.1.0\n",
            "moviepy                          1.0.3\n",
            "mpmath                           1.3.0\n",
            "msgpack                          1.0.7\n",
            "multidict                        6.0.4\n",
            "multipledispatch                 1.0.0\n",
            "multitasking                     0.0.11\n",
            "murmurhash                       1.0.10\n",
            "music21                          9.1.0\n",
            "natsort                          8.4.0\n",
            "nbclassic                        1.0.0\n",
            "nbclient                         0.9.0\n",
            "nbconvert                        6.5.4\n",
            "nbformat                         5.9.2\n",
            "nest-asyncio                     1.5.8\n",
            "networkx                         3.2.1\n",
            "nibabel                          4.0.2\n",
            "nltk                             3.8.1\n",
            "notebook                         6.5.5\n",
            "notebook_shim                    0.2.3\n",
            "numba                            0.58.1\n",
            "numexpr                          2.8.8\n",
            "numpy                            1.23.5\n",
            "oauth2client                     4.1.3\n",
            "oauthlib                         3.2.2\n",
            "opencv-contrib-python            4.8.0.76\n",
            "opencv-python                    4.8.0.76\n",
            "opencv-python-headless           4.8.1.78\n",
            "openpyxl                         3.1.2\n",
            "opt-einsum                       3.3.0\n",
            "optax                            0.1.7\n",
            "orbax-checkpoint                 0.4.4\n",
            "osqp                             0.6.2.post8\n",
            "packaging                        23.2\n",
            "pandas                           1.5.3\n",
            "pandas-datareader                0.10.0\n",
            "pandas-gbq                       0.19.2\n",
            "pandas-stubs                     1.5.3.230304\n",
            "pandocfilters                    1.5.0\n",
            "panel                            1.3.6\n",
            "param                            2.0.1\n",
            "parso                            0.8.3\n",
            "parsy                            2.1\n",
            "partd                            1.4.1\n",
            "pathlib                          1.0.1\n",
            "pathy                            0.10.3\n",
            "patsy                            0.5.4\n",
            "peewee                           3.17.0\n",
            "pexpect                          4.9.0\n",
            "pickleshare                      0.7.5\n",
            "Pillow                           9.4.0\n",
            "pip                              23.1.2\n",
            "pip-tools                        6.13.0\n",
            "platformdirs                     4.1.0\n",
            "plotly                           5.15.0\n",
            "plotnine                         0.12.4\n",
            "pluggy                           1.3.0\n",
            "polars                           0.17.3\n",
            "pooch                            1.8.0\n",
            "portpicker                       1.5.2\n",
            "prefetch-generator               1.0.3\n",
            "preshed                          3.0.9\n",
            "prettytable                      3.9.0\n",
            "proglog                          0.1.10\n",
            "progressbar2                     4.2.0\n",
            "prometheus-client                0.19.0\n",
            "promise                          2.3\n",
            "prompt-toolkit                   3.0.43\n",
            "prophet                          1.1.5\n",
            "proto-plus                       1.23.0\n",
            "protobuf                         3.20.3\n",
            "psutil                           5.9.5\n",
            "psycopg2                         2.9.9\n",
            "ptyprocess                       0.7.0\n",
            "py-cpuinfo                       9.0.0\n",
            "py4j                             0.10.9.7\n",
            "pyarrow                          10.0.1\n",
            "pyasn1                           0.5.1\n",
            "pyasn1-modules                   0.3.0\n",
            "pycocotools                      2.0.7\n",
            "pycparser                        2.21\n",
            "pyct                             0.5.0\n",
            "pydantic                         1.10.13\n",
            "pydata-google-auth               1.8.2\n",
            "pydot                            1.4.2\n",
            "pydot-ng                         2.0.0\n",
            "pydotplus                        2.0.2\n",
            "PyDrive                          1.3.1\n",
            "PyDrive2                         1.6.3\n",
            "pyerfa                           2.0.1.1\n",
            "pygame                           2.5.2\n",
            "Pygments                         2.16.1\n",
            "PyGObject                        3.42.1\n",
            "PyJWT                            2.3.0\n",
            "pymc                             5.7.2\n",
            "pymystem3                        0.2.0\n",
            "PyOpenGL                         3.1.7\n",
            "pyOpenSSL                        23.3.0\n",
            "pyparsing                        3.1.1\n",
            "pyperclip                        1.8.2\n",
            "pyproj                           3.6.1\n",
            "pyproject_hooks                  1.0.0\n",
            "pyshp                            2.3.1\n",
            "PySocks                          1.7.1\n",
            "pytensor                         2.14.2\n",
            "pytest                           7.4.3\n",
            "python-apt                       0.0.0\n",
            "python-box                       7.1.1\n",
            "python-dateutil                  2.8.2\n",
            "python-louvain                   0.16\n",
            "python-slugify                   8.0.1\n",
            "python-utils                     3.8.1\n",
            "pytz                             2023.3.post1\n",
            "pyviz_comms                      3.0.0\n",
            "PyWavelets                       1.5.0\n",
            "PyYAML                           6.0.1\n",
            "pyzmq                            23.2.1\n",
            "qdldl                            0.1.7.post0\n",
            "qudida                           0.0.4\n",
            "ratelim                          0.1.6\n",
            "referencing                      0.32.0\n",
            "regex                            2023.6.3\n",
            "requests                         2.31.0\n",
            "requests-oauthlib                1.3.1\n",
            "requirements-parser              0.5.0\n",
            "rich                             13.7.0\n",
            "rpds-py                          0.15.2\n",
            "rpy2                             3.4.2\n",
            "rsa                              4.9\n",
            "safetensors                      0.4.1\n",
            "scikit-image                     0.19.3\n",
            "scikit-learn                     1.2.2\n",
            "scipy                            1.11.4\n",
            "scooby                           0.9.2\n",
            "scs                              3.2.4.post1\n",
            "seaborn                          0.12.2\n",
            "SecretStorage                    3.3.1\n",
            "Send2Trash                       1.8.2\n",
            "setuptools                       67.7.2\n",
            "shapely                          2.0.2\n",
            "six                              1.16.0\n",
            "sklearn-pandas                   2.2.0\n",
            "smart-open                       6.4.0\n",
            "sniffio                          1.3.0\n",
            "snowballstemmer                  2.2.0\n",
            "sortedcontainers                 2.4.0\n",
            "soundfile                        0.12.1\n",
            "soupsieve                        2.5\n",
            "soxr                             0.3.7\n",
            "spacy                            3.6.1\n",
            "spacy-legacy                     3.0.12\n",
            "spacy-loggers                    1.0.5\n",
            "Sphinx                           5.0.2\n",
            "sphinxcontrib-applehelp          1.0.7\n",
            "sphinxcontrib-devhelp            1.0.5\n",
            "sphinxcontrib-htmlhelp           2.0.4\n",
            "sphinxcontrib-jsmath             1.0.1\n",
            "sphinxcontrib-qthelp             1.0.6\n",
            "sphinxcontrib-serializinghtml    1.1.9\n",
            "SQLAlchemy                       2.0.23\n",
            "sqlglot                          17.16.2\n",
            "sqlparse                         0.4.4\n",
            "srsly                            2.4.8\n",
            "stanio                           0.3.0\n",
            "statsmodels                      0.14.1\n",
            "sympy                            1.12\n",
            "tables                           3.8.0\n",
            "tabulate                         0.9.0\n",
            "tbb                              2021.11.0\n",
            "tblib                            3.0.0\n",
            "tenacity                         8.2.3\n",
            "tensorboard                      2.15.1\n",
            "tensorboard-data-server          0.7.2\n",
            "tensorflow                       2.15.0\n",
            "tensorflow-datasets              4.9.4\n",
            "tensorflow-estimator             2.15.0\n",
            "tensorflow-gcs-config            2.15.0\n",
            "tensorflow-hub                   0.15.0\n",
            "tensorflow-io-gcs-filesystem     0.35.0\n",
            "tensorflow-metadata              1.14.0\n",
            "tensorflow-probability           0.22.0\n",
            "tensorstore                      0.1.45\n",
            "termcolor                        2.4.0\n",
            "terminado                        0.18.0\n",
            "text-unidecode                   1.3\n",
            "textblob                         0.17.1\n",
            "tf-slim                          1.1.0\n",
            "thinc                            8.1.12\n",
            "threadpoolctl                    3.2.0\n",
            "tifffile                         2023.12.9\n",
            "tinycss2                         1.2.1\n",
            "tokenizers                       0.15.0\n",
            "toml                             0.10.2\n",
            "tomli                            2.0.1\n",
            "toolz                            0.12.0\n",
            "torch                            2.1.0+cu121\n",
            "torchaudio                       2.1.0+cu121\n",
            "torchdata                        0.7.0\n",
            "torchsummary                     1.5.1\n",
            "torchtext                        0.16.0\n",
            "torchvision                      0.16.0+cu121\n",
            "tornado                          6.3.2\n",
            "tqdm                             4.66.1\n",
            "traitlets                        5.7.1\n",
            "traittypes                       0.2.1\n",
            "transformers                     4.35.2\n",
            "triton                           2.1.0\n",
            "tweepy                           4.14.0\n",
            "typer                            0.9.0\n",
            "types-pytz                       2023.3.1.1\n",
            "types-setuptools                 69.0.0.0\n",
            "typing_extensions                4.5.0\n",
            "tzlocal                          5.2\n",
            "uc-micro-py                      1.0.2\n",
            "uritemplate                      4.1.1\n",
            "urllib3                          2.0.7\n",
            "vega-datasets                    0.9.0\n",
            "wadllib                          1.3.6\n",
            "wasabi                           1.1.2\n",
            "wcwidth                          0.2.12\n",
            "webcolors                        1.13\n",
            "webencodings                     0.5.1\n",
            "websocket-client                 1.7.0\n",
            "Werkzeug                         3.0.1\n",
            "wheel                            0.42.0\n",
            "widgetsnbextension               3.6.6\n",
            "wordcloud                        1.9.3\n",
            "wrapt                            1.14.1\n",
            "xarray                           2023.7.0\n",
            "xarray-einstats                  0.6.0\n",
            "xgboost                          2.0.3\n",
            "xlrd                             2.0.1\n",
            "xxhash                           3.4.1\n",
            "xyzservices                      2023.10.1\n",
            "yarl                             1.9.4\n",
            "yellowbrick                      1.5\n",
            "yfinance                         0.2.33\n",
            "zict                             3.0.0\n",
            "zipp                             3.17.0\n"
          ]
        }
      ],
      "source": [
        "!pip list"
      ]
    },
    {
      "cell_type": "markdown",
      "metadata": {
        "id": "5idw4Hm89z8m"
      },
      "source": [
        "- **현재 경로 확인**"
      ]
    },
    {
      "cell_type": "code",
      "execution_count": 13,
      "metadata": {
        "id": "Jlz90PvC9wXE",
        "colab": {
          "base_uri": "https://localhost:8080/"
        },
        "outputId": "4c02bc7b-8418-4711-e1bb-b03d02563729"
      },
      "outputs": [
        {
          "output_type": "stream",
          "name": "stdout",
          "text": [
            "/content\n",
            "/content\n",
            "['.config', 'sample_data']\n"
          ]
        }
      ],
      "source": [
        "import os\n",
        "\n",
        "#현재 폴더 경로; 작업 폴더 기준\n",
        "print(os.getcwd())              # 현재 경로\n",
        "print(os.path.realpath('./'))   # 현재 경로\n",
        "\n",
        "#현재 디렉토리의 파일 리스트\n",
        "print(os.listdir(os.getcwd()))\n",
        "\n",
        "#디렉토리 변경\n",
        "# os.chdir('/')"
      ]
    },
    {
      "cell_type": "markdown",
      "metadata": {
        "id": "M5JilNR-pkpW"
      },
      "source": [
        "\n",
        "\n",
        "---\n",
        "\n"
      ]
    },
    {
      "cell_type": "markdown",
      "metadata": {
        "id": "HDyqQBWrlNFM"
      },
      "source": [
        "## 1-2. 파이썬 자료형과 연산자"
      ]
    },
    {
      "cell_type": "markdown",
      "metadata": {
        "id": "K8vgVXmulcSq"
      },
      "source": [
        "### 1) 파이썬 자료형"
      ]
    },
    {
      "cell_type": "markdown",
      "metadata": {
        "id": "P6uMmPoHv_68"
      },
      "source": [
        "* 파이썬 자료형 확인 방법"
      ]
    },
    {
      "cell_type": "code",
      "execution_count": 14,
      "metadata": {
        "id": "LqIHiC1MsT0F",
        "colab": {
          "base_uri": "https://localhost:8080/"
        },
        "outputId": "5c669df3-e9a2-47a7-81b8-948145b27eb0"
      },
      "outputs": [
        {
          "output_type": "stream",
          "name": "stdout",
          "text": [
            "123의 자료형: <class 'int'>\n",
            "123의 자료형: <class 'str'>\n",
            "[123]의 자료형: <class 'list'>\n",
            "(123,)의 자료형: <class 'tuple'>\n",
            "{'key': 123}의 자료형: <class 'dict'>\n",
            "{123}의 자료형: <class 'set'>\n",
            "True의 자료형: <class 'bool'>\n"
          ]
        }
      ],
      "source": [
        "# 파이썬 자료형 확인 방법\n",
        "d1 = 123\n",
        "d2 = '123'\n",
        "d3 = [123]\n",
        "d4 = (123,)\n",
        "d5 = {'key':123}\n",
        "d6 = {123}\n",
        "d7 = True\n",
        "\n",
        "print(f'{d1}의 자료형: {type(d1)}')\n",
        "print(f'{d2}의 자료형: {type(d2)}')\n",
        "print(f'{d3}의 자료형: {type(d3)}')\n",
        "print(f'{d4}의 자료형: {type(d4)}')\n",
        "print(f'{d5}의 자료형: {type(d5)}')\n",
        "print(f'{d6}의 자료형: {type(d6)}')\n",
        "print(f'{d7}의 자료형: {type(d7)}')"
      ]
    },
    {
      "cell_type": "code",
      "execution_count": 15,
      "metadata": {
        "id": "ifLMq0b3-1q6",
        "colab": {
          "base_uri": "https://localhost:8080/"
        },
        "outputId": "44381d37-66e0-4721-8d49-c74c2fb60c80"
      },
      "outputs": [
        {
          "output_type": "stream",
          "name": "stdout",
          "text": [
            "데이터 123 의 자료형: <class 'int'>\n",
            "데이터 123 의 자료형: <class 'str'>\n",
            "데이터 [123] 의 자료형: <class 'list'>\n",
            "데이터 (123,) 의 자료형: <class 'tuple'>\n",
            "데이터 {'key': 123} 의 자료형: <class 'dict'>\n",
            "데이터 {123} 의 자료형: <class 'set'>\n",
            "데이터 True 의 자료형: <class 'bool'>\n"
          ]
        }
      ],
      "source": [
        "# 리스트와 반복문을 이용한 자료형 출력\n",
        "datas = [123, '123', [123], (123,), {'key':123}, {123}, True]\n",
        "\n",
        "for d in datas:\n",
        "         print(f\"데이터 {d} 의 자료형: {type(d)}\")"
      ]
    },
    {
      "cell_type": "markdown",
      "metadata": {
        "id": "HxuivRiwwEEP"
      },
      "source": [
        "* 표준 입력과 출력\n",
        "    - 표준 입력함수 : input()\n",
        "    - 표준 출력함수 : print()"
      ]
    },
    {
      "cell_type": "markdown",
      "metadata": {
        "id": "3q7wLO7FwyMf"
      },
      "source": [
        "* 숫자형 자료형\n",
        "    - 정수 : int()\n",
        "    - 실수 : float()"
      ]
    },
    {
      "cell_type": "code",
      "execution_count": 17,
      "metadata": {
        "id": "AR1a1JN0wlT7",
        "colab": {
          "base_uri": "https://localhost:8080/"
        },
        "outputId": "cb375539-3db4-4d5b-f2f8-1a53210daca2"
      },
      "outputs": [
        {
          "output_type": "stream",
          "name": "stdout",
          "text": [
            "숫자를 입력하세요: 1\n",
            "<class 'str'>\n",
            "<class 'int'>\n"
          ]
        }
      ],
      "source": [
        "# 문자열 데이터를 숫자(정수)로 변환하기\n",
        "a = input('숫자를 입력하세요: ')\n",
        "print(type(a))\n",
        "\n",
        "a = int(a)\n",
        "print(type(a))"
      ]
    },
    {
      "cell_type": "code",
      "execution_count": 18,
      "metadata": {
        "id": "DbPvevMaxQrg",
        "colab": {
          "base_uri": "https://localhost:8080/"
        },
        "outputId": "3a4c2876-19e0-4e26-8496-e6ac263c2f6b"
      },
      "outputs": [
        {
          "output_type": "stream",
          "name": "stdout",
          "text": [
            "숫자를 입력하세요: 1\n",
            "<class 'int'>\n"
          ]
        }
      ],
      "source": [
        "a = int(input('숫자를 입력하세요: '))\n",
        "print(type(a))"
      ]
    },
    {
      "cell_type": "markdown",
      "metadata": {
        "id": "v-QqyapnxdYO"
      },
      "source": [
        "* print()함수를 사용한 다양한 출력 방식\n",
        "    - 방법1: % 를 사용하여 변수 포맷팅 방법\n",
        "    - 방법2: format() 함수를 사용한 방법\n",
        "    - 방법3: f'string과 {}을 사용한 방법"
      ]
    },
    {
      "cell_type": "code",
      "execution_count": 19,
      "metadata": {
        "id": "NXTbJ-RG5Jus",
        "colab": {
          "base_uri": "https://localhost:8080/"
        },
        "outputId": "ea89d680-d5b6-40db-974f-e449a6e439af"
      },
      "outputs": [
        {
          "output_type": "stream",
          "name": "stdout",
          "text": [
            "숫자를 입력하세요: 1\n",
            "문자열을 입력하세요: 2\n",
            "---------------------------\n",
            "var1 = 1, var2 = 2\n"
          ]
        }
      ],
      "source": [
        "#방법1: % 를 사용하여 변수 포맷팅 방법\n",
        "var1 = input('숫자를 입력하세요: ')\n",
        "var2 = input('문자열을 입력하세요: ')\n",
        "print('---------------------------')\n",
        "\n",
        "print('var1 = %d, var2 = %s' % (int(var1), var2))"
      ]
    },
    {
      "cell_type": "code",
      "execution_count": 20,
      "metadata": {
        "id": "QxBnOlE75NJ-",
        "colab": {
          "base_uri": "https://localhost:8080/"
        },
        "outputId": "a106862a-bbc8-45f1-c1e1-d67948a859e2"
      },
      "outputs": [
        {
          "output_type": "stream",
          "name": "stdout",
          "text": [
            "var1 = 1, var2 = 2\n",
            "var1 = 1, var2 = 2\n",
            "var2 = 2, var1 = 1\n"
          ]
        }
      ],
      "source": [
        "#방법2: format() 함수를 사용한 방법\n",
        "print('var1 = {0}, var2 = {1}'.format(int(var1), var2))\n",
        "print('var1 = {0:d}, var2 = {1:s}'.format(int(var1), var2))\n",
        "print('var2 = {1}, var1 = {0}'.format(int(var1), var2))"
      ]
    },
    {
      "cell_type": "code",
      "execution_count": 21,
      "metadata": {
        "id": "6vWViLQV5NSo",
        "colab": {
          "base_uri": "https://localhost:8080/"
        },
        "outputId": "04672139-62e2-465b-a2b6-34247e73efff"
      },
      "outputs": [
        {
          "output_type": "stream",
          "name": "stdout",
          "text": [
            "var1 = 1, var2 = 2\n"
          ]
        }
      ],
      "source": [
        "#방법3: f'string과 {}을 사용한 방법\n",
        "print(f'var1 = {var1}, var2 = {var2}')"
      ]
    },
    {
      "cell_type": "code",
      "execution_count": 22,
      "metadata": {
        "id": "6nMEE1T465Tn",
        "colab": {
          "base_uri": "https://localhost:8080/"
        },
        "outputId": "b56048e3-9edc-4417-b749-508cc3430040"
      },
      "outputs": [
        {
          "output_type": "stream",
          "name": "stdout",
          "text": [
            "내 이름은 아이유이고, 나이는 30살 입니다.\n"
          ]
        }
      ],
      "source": [
        "name = '아이유'\n",
        "age = 30\n",
        "print(f'내 이름은 {name}이고, 나이는 {age}살 입니다.')"
      ]
    },
    {
      "cell_type": "markdown",
      "metadata": {
        "id": "pYT-0Xoi7gvt"
      },
      "source": [
        "### **[미션]** 키보드로 두 개 정수 입력받아 사칙연산 하기"
      ]
    },
    {
      "cell_type": "code",
      "execution_count": 25,
      "metadata": {
        "id": "iOwb1r5I7py5",
        "colab": {
          "base_uri": "https://localhost:8080/"
        },
        "outputId": "57786909-4848-4e89-b281-b90504b926c9"
      },
      "outputs": [
        {
          "output_type": "stream",
          "name": "stdout",
          "text": [
            "첫번째 숫자:50\n",
            "두번째 숫자:3\n",
            "--------------------------\n",
            "덧셈: 50 + 3 = 53\n",
            "뺄셈: 50 - 3 = 47\n",
            "곱셈: 50 * 3 = 150\n",
            "몫: 50 // 3 = 16\n",
            "나머지: 50 % 3 = 2\n"
          ]
        }
      ],
      "source": [
        "num1 = input(\"첫번째 숫자:\")\n",
        "num2 = input(\"두번째 숫자:\")\n",
        "num1 = int(num1)\n",
        "num2 = int(num2)\n",
        "print('--------------------------')\n",
        "print(f'덧셈: {num1} + {num2} = {num1+num2}')\n",
        "print(f'뺄셈: {num1} - {num2} = {num1-num2}')\n",
        "print(f'곱셈: {num1} * {num2} = {num1*num2}')\n",
        "print(f'몫: {num1} // {num2} = {num1//num2}')\n",
        "print(f'나머지: {num1} % {num2} = {num1%num2}')"
      ]
    },
    {
      "cell_type": "markdown",
      "metadata": {
        "id": "S1Ck5nEe-Szj"
      },
      "source": [
        "\n",
        "\n",
        "---\n",
        "\n"
      ]
    },
    {
      "cell_type": "markdown",
      "metadata": {
        "id": "yof26G4SsK6N"
      },
      "source": [
        "### 2) 문자와 문자열"
      ]
    },
    {
      "cell_type": "markdown",
      "metadata": {
        "id": "-uQBHWUXAzGW"
      },
      "source": [
        "- 문자와 문자열 변환"
      ]
    },
    {
      "cell_type": "code",
      "execution_count": 32,
      "metadata": {
        "id": "rPevhDsCsX7d",
        "colab": {
          "base_uri": "https://localhost:8080/"
        },
        "outputId": "b64a9e12-544d-4dc9-bb69-c2c6c1794e35"
      },
      "outputs": [
        {
          "output_type": "stream",
          "name": "stdout",
          "text": [
            "65\n",
            "33\n",
            "44032\n",
            "A\n",
            "a\n",
            "가\n"
          ]
        }
      ],
      "source": [
        "# 문자 --> 숫자(정수) 로 변환 : ord() 함수 사용\n",
        "print( ord('A') )\n",
        "print( ord('!') )\n",
        "print( ord('가') )\n",
        "\n",
        "# 숫자(정수) --> 문자 로 변환 : chr() 함수 사용\n",
        "print( chr(65) )\n",
        "print( chr(97) )\n",
        "print( chr(44032) )"
      ]
    },
    {
      "cell_type": "code",
      "execution_count": 33,
      "metadata": {
        "id": "lKa8QoJgAbSs",
        "colab": {
          "base_uri": "https://localhost:8080/",
          "height": 255
        },
        "outputId": "81c31c54-c5ed-4ccb-8a00-6209d56aec4d"
      },
      "outputs": [
        {
          "output_type": "error",
          "ename": "NameError",
          "evalue": "name '숫자' is not defined",
          "traceback": [
            "\u001b[0;31m---------------------------------------------------------------------------\u001b[0m",
            "\u001b[0;31mNameError\u001b[0m                                 Traceback (most recent call last)",
            "\u001b[0;32m<ipython-input-33-1d542dd714f7>\u001b[0m in \u001b[0;36m<cell line: 2>\u001b[0;34m()\u001b[0m\n\u001b[1;32m      1\u001b[0m \u001b[0;31m# 문자 --> 숫자 --> 이진수 로 변환\u001b[0m\u001b[0;34m\u001b[0m\u001b[0;34m\u001b[0m\u001b[0m\n\u001b[1;32m      2\u001b[0m \u001b[0;32mfor\u001b[0m \u001b[0mc\u001b[0m \u001b[0;32min\u001b[0m \u001b[0;34m'파이썬'\u001b[0m\u001b[0;34m:\u001b[0m\u001b[0;34m\u001b[0m\u001b[0;34m\u001b[0m\u001b[0m\n\u001b[0;32m----> 3\u001b[0;31m     \u001b[0m숫자\u001b[0m\u001b[0;34m,\u001b[0m \u001b[0m이진수\u001b[0m \u001b[0;34m=\u001b[0m \u001b[0mord\u001b[0m\u001b[0;34m(\u001b[0m\u001b[0mc\u001b[0m\u001b[0;34m)\u001b[0m\u001b[0;34m,\u001b[0m \u001b[0mbin\u001b[0m\u001b[0;34m(\u001b[0m\u001b[0m숫자\u001b[0m\u001b[0;34m)\u001b[0m  \u001b[0;31m# unicode, 16진수 binarycode\u001b[0m\u001b[0;34m\u001b[0m\u001b[0;34m\u001b[0m\u001b[0m\n\u001b[0m\u001b[1;32m      4\u001b[0m     \u001b[0mprint\u001b[0m\u001b[0;34m(\u001b[0m\u001b[0;34mf'{c}->{숫자}->{이진수}'\u001b[0m\u001b[0;34m,\u001b[0m \u001b[0mend\u001b[0m \u001b[0;34m=\u001b[0m \u001b[0;34m', '\u001b[0m\u001b[0;34m)\u001b[0m  \u001b[0;31m# 한 줄로 표현하기\u001b[0m\u001b[0;34m\u001b[0m\u001b[0;34m\u001b[0m\u001b[0m\n\u001b[1;32m      5\u001b[0m \u001b[0mprint\u001b[0m\u001b[0;34m(\u001b[0m\u001b[0;34m)\u001b[0m\u001b[0;34m\u001b[0m\u001b[0;34m\u001b[0m\u001b[0m\n",
            "\u001b[0;31mNameError\u001b[0m: name '숫자' is not defined"
          ]
        }
      ],
      "source": [
        "# 문자 --> 숫자 --> 이진수 로 변환\n",
        "for c in '파이썬':\n",
        "    숫자, 이진수 = ord(c), bin(숫자)  # unicode, 16진수 binarycode\n",
        "    print(f'{c}->{숫자}->{이진수}', end = ', ')  # 한 줄로 표현하기\n",
        "print()\n",
        "for c in '파이썬':\n",
        "    # 이진수에서 앞'0b'를 없애기 위해 format() 함수 사용할 수 있다.\n",
        "    print(f\"{c}->{format(ord(c),'b')}\", end = ' ')  # 한 줄로 표현하기"
      ]
    },
    {
      "cell_type": "markdown",
      "metadata": {
        "id": "8gfcqs2XA4eF"
      },
      "source": [
        "- 문자열 따옴표로 지정"
      ]
    },
    {
      "cell_type": "code",
      "execution_count": null,
      "metadata": {
        "id": "ySUvp4v0A8fm"
      },
      "outputs": [],
      "source": [
        "# 큰 따옴표 or 작은 따옴표로 지정한다\n",
        "print('Hello')\n",
        "print(\"Hello\")\n",
        "print(\"Hello 'world\")\n",
        "print('Hello \"world')\n",
        "print(' \"Yes, I can!\" ')"
      ]
    },
    {
      "cell_type": "code",
      "execution_count": null,
      "metadata": {
        "id": "Z_upV1UVBAys"
      },
      "outputs": [],
      "source": [
        "#따옴표 세 개 사용 : 여러 줄로 표현할 때\n",
        "a = '''박씨가 소리질렀다.\n",
        "도둑이야!'''\n",
        "print(a)"
      ]
    },
    {
      "cell_type": "code",
      "execution_count": null,
      "metadata": {
        "id": "ILmnDdKBBCV0"
      },
      "outputs": [],
      "source": [
        "menu = '''OOO카페 메뉴판\n",
        "- 아메리카노:  3000원\n",
        "- 카페라테:     4000원\n",
        "- 카페모카:     5000원'''\n",
        "print(menu)\n",
        "coffee = input('주문하실 음료를 입력하세요(ex:아메리카노) => ')\n",
        "cup = input(f'{coffee} 몇 잔을 주문하시겠습니까?: ')\n",
        "\n",
        "print(f'주문하신 음료는 [{coffee} {cup} 잔] 입니다.')"
      ]
    },
    {
      "cell_type": "markdown",
      "metadata": {
        "id": "9nuqRUB1A9Y-"
      },
      "source": [
        "* 문자열 연산\n",
        "    - (+): 문자열 연결하기\n",
        "    - (*) : 반복의 의미"
      ]
    },
    {
      "cell_type": "code",
      "execution_count": null,
      "metadata": {
        "id": "tHpfFScrA9h5"
      },
      "outputs": [],
      "source": [
        "# 문자열 연결하기\n",
        "print('Hello'+'world')\n",
        "print('Hello','world', '!')\n",
        "\n",
        "a = \"Python\"\n",
        "b = \" is very fun!\"\n",
        "print(a+b)"
      ]
    },
    {
      "cell_type": "code",
      "execution_count": null,
      "metadata": {
        "id": "qx1PgEfpBd6C"
      },
      "outputs": [],
      "source": [
        "# 반복의 의미\n",
        "print('Hello'*3)\n",
        "print('-' * 30)"
      ]
    },
    {
      "cell_type": "markdown",
      "metadata": {
        "id": "YFK-5WZnsOQF"
      },
      "source": [
        "### 3) 문자열 인덱싱(Indexing)과 슬라이싱(Slicing)"
      ]
    },
    {
      "cell_type": "code",
      "execution_count": null,
      "metadata": {
        "id": "FDZ132q2sYSZ"
      },
      "outputs": [],
      "source": [
        "a = '우리는 민족중흥의 역사적 사명을 띠고 이 땅에 태어났다.'\n",
        "print(a[3:12] )\n",
        "\n",
        "fruits = 'orange'\n",
        "print(fruits[1:3])"
      ]
    },
    {
      "cell_type": "markdown",
      "metadata": {
        "id": "LjIkvKH6C5id"
      },
      "source": [
        "### **[미션]** : 문자열 거꾸로 출력하기"
      ]
    },
    {
      "cell_type": "code",
      "execution_count": 35,
      "metadata": {
        "id": "QAocYOpgC_iI",
        "colab": {
          "base_uri": "https://localhost:8080/"
        },
        "outputId": "5276f309-c79f-456b-b873-d950bd0a6cab"
      },
      "outputs": [
        {
          "output_type": "stream",
          "name": "stdout",
          "text": [
            "문자열을 입력하세요:월요일 아침!\n",
            "!침아 일요월\n"
          ]
        }
      ],
      "source": [
        "s = input('문자열을 입력하세요:')\n",
        "s = list(s)[::-1]\n",
        "print(''.join(s))"
      ]
    },
    {
      "cell_type": "markdown",
      "metadata": {
        "id": "OsYbA5Tys7fU"
      },
      "source": [
        "### 4) 연산자\n",
        "* 연산자의 종류\n",
        "    - 산술 연산자\n",
        "    - 대입 연산자\n",
        "    - 관계 연산자\n",
        "    - 논리 연산\n",
        "    - 멤버쉽 연산자\n",
        "    - 비트 연산자"
      ]
    },
    {
      "cell_type": "markdown",
      "metadata": {
        "id": "-EflCpDTDHtn"
      },
      "source": [
        "### **[미션]** : 동전 교환 프로그램 작성하기\n",
        "키보드로 숫자(원)를 입력받아 우리나라 동전으로 각각 몇개가 필요한지 동전 교환하는 프로그램을 만들어 보세요."
      ]
    },
    {
      "cell_type": "code",
      "source": [
        "# 키보드로부터 금액 입력 받기\n",
        "num = input('동전으로 교환할 금액을 입력하세요:')\n",
        "num = int(num)\n",
        "\n",
        "print('--------------------------------')\n",
        "print(f'500원 짜리 ==> {num//500}개')\n",
        "num -= (num//500)*500\n",
        "print(f'100원짜리 ==> {num//100}개')\n",
        "num -= (num//100)*100\n",
        "print(f'50원짜리 ==> {num//50}개')\n",
        "num -= (num//50)*50\n",
        "print(f'10원짜리 ==> {num//10}개')\n",
        "num -= (num//10)*10\n",
        "print(f'잔돈 ==> {num}원')\n",
        "\n",
        "\n",
        "# 필요 동전 개수 출력하기\n",
        "\n"
      ],
      "metadata": {
        "id": "fqMqO4ENmlln",
        "colab": {
          "base_uri": "https://localhost:8080/"
        },
        "outputId": "fb9282f6-6c1c-4357-a700-c92bfa23e885"
      },
      "execution_count": 40,
      "outputs": [
        {
          "output_type": "stream",
          "name": "stdout",
          "text": [
            "동전으로 교환할 금액을 입력하세요:4321\n",
            "--------------------------------\n",
            "500원 짜리 ==> 8개\n",
            "100원짜리 ==> 3개\n",
            "50원짜리 ==> 0개\n",
            "10원짜리 ==> 2개\n",
            "잔돈 ==> 1원\n"
          ]
        }
      ]
    },
    {
      "cell_type": "markdown",
      "metadata": {
        "id": "0xe_4Y4jCU1c"
      },
      "source": [
        "### **[미션]** : 구글TTS(gTTS) 사용하여 txt 파일을 읽어서 음성으로 출력하기\n",
        "Google Text to Speech(gTTS)"
      ]
    },
    {
      "cell_type": "code",
      "execution_count": 41,
      "metadata": {
        "id": "-tXVlxe1CYS9",
        "colab": {
          "base_uri": "https://localhost:8080/"
        },
        "outputId": "947ef364-d294-4d61-f7d0-e323d31ed463"
      },
      "outputs": [
        {
          "output_type": "stream",
          "name": "stdout",
          "text": [
            "Collecting gTTS\n",
            "  Downloading gTTS-2.5.0-py3-none-any.whl (29 kB)\n",
            "Requirement already satisfied: requests<3,>=2.27 in /usr/local/lib/python3.10/dist-packages (from gTTS) (2.31.0)\n",
            "Requirement already satisfied: click<8.2,>=7.1 in /usr/local/lib/python3.10/dist-packages (from gTTS) (8.1.7)\n",
            "Requirement already satisfied: charset-normalizer<4,>=2 in /usr/local/lib/python3.10/dist-packages (from requests<3,>=2.27->gTTS) (3.3.2)\n",
            "Requirement already satisfied: idna<4,>=2.5 in /usr/local/lib/python3.10/dist-packages (from requests<3,>=2.27->gTTS) (3.6)\n",
            "Requirement already satisfied: urllib3<3,>=1.21.1 in /usr/local/lib/python3.10/dist-packages (from requests<3,>=2.27->gTTS) (2.0.7)\n",
            "Requirement already satisfied: certifi>=2017.4.17 in /usr/local/lib/python3.10/dist-packages (from requests<3,>=2.27->gTTS) (2023.11.17)\n",
            "Installing collected packages: gTTS\n",
            "Successfully installed gTTS-2.5.0\n"
          ]
        }
      ],
      "source": [
        "# 구글 tts 라이브러리 설치\n",
        "!pip install gTTS"
      ]
    },
    {
      "cell_type": "code",
      "execution_count": 42,
      "metadata": {
        "id": "oFMpZEzcCYas",
        "colab": {
          "base_uri": "https://localhost:8080/",
          "height": 74
        },
        "outputId": "55f4eaf5-365a-40b3-b9bf-a71476965d12"
      },
      "outputs": [
        {
          "output_type": "display_data",
          "data": {
            "text/plain": [
              "<IPython.lib.display.Audio object>"
            ],
            "text/html": [
              "\n",
              "                <audio  controls=\"controls\" autoplay=\"autoplay\">\n",
              "                    <source src=\"data:audio/x-wav;base64,//NExAAAAANIAUAAAP8tesc6xGHf7jyCGnl/5XL426/FDuCh5fIRoIDsHPoxzuVhwREv/wcRc7t/nf1Qzq7///ixBs7X////2UYzmDGf/+nrAQMMjJBo8b7XankTa4OB//NExFMRAlZUAZkoAL5I6+dbE4Nyx1edAtiVn1DvRvRlFOo1XF3nt88DNVy2XV8ynLmacbczxjhsbOn1XGurJkWo0+XNHxPNaelNZf4YIjAyahv8ZvRvZ388Nsix93j0//NExGIhckZoAc94APTL/5+vSJ6UpbWKZtWPi95KaviBE2CFBNCrqSgA/Pyjg+IAQRU715cpeCOKVtkJDacWdHWF4aRzHbSqewt0qjYVoC9bV/3NYEjMLY5pySusQzNI//NExC8dOmaIAGMSuLoVjyk4dY1FZYSKcXF8UXyK8Gdpd+65J2sXLIJG0FWg95PzbdrCmfZQl1bnPWfmb0suVQ8K3MnmxadbwqK38uUoonL4yhBudgEAhh+xt2tlUJTd//NExA0UCTKgAGJScKKGVFzYkBcLESc4rdBJtFrI2pCa72z6ypKs1/Oodk1DInsyayyK4NQd2MW9alOiUAw5PDBYIrLidLkEYytbqn3Q8PRVx59aGhT4v+iv5WTHUifV//NExA8VGS6oAMYScMrMaBhhqf53mBjAGKQq3WYHLrN/iSoNkbYKsFCA8DJ8RlhRCMILz83au3/sk53GVpQmkm9atl4thGZG4q1VSmnLQxkPdUpfODXCkfwQDwcWK7a6//NExA0U+aawAKYKlUugz0d/sGp6gbkg3amWcpCSb9UDIkiJ3uniRWd2T7/mQiL0dRovqw8jZTM2JBQoilKQTF1tO+iLeh0+IEcXgfbvdg751d/Vsf+6hCOHZW+YxpI0//NExAwUKcasAM6OlOQiZpruAqGB6CzPcuxkQh4Ou7zrobvlveFOoe/Fb/vNKe7/36i71Kep7e7aR6j1HRAzZUbNvHH89/OZJ7nlvhc9Weo/Qr/NY0BULSyEp1tRQwg0//NExA4V2b6cAN4OlDiAmioK8QQzNn3Qme4v+GQb+zb5BofXOlpZS1mDYrr9ZSqe//8q3xr6t83/46R54pCV0qPi3ureoksaacoPTvQIcq6p3+S///0VjHP3NBWFDqWK//NExAkU0c6IAN5ElNR0hkAMnRxdxXE5NnYgNCXnOltZ0ViNHd6jvN1R9eV3rvPpYt/O/l3///b1X5fX/9H6lZUZwErUcb0DtKhnGTi3SjqtWp/+7+vmVcrOrMuAC2bo//NExAgT6dqMANzEmBzyz1ZeYsMnmGwcUMHIIMuGLAVsT5cWoiQVEdWWDMfAn4jzY86CC/Sb0X6zJvt8/p+33VaT/9LroDCEbUEMiyr6XVv///8XQp3PuEvSEG5rqS+7//NExAsU2aacANZKlDFg+e0zASEfZkRzGLUocsYmoK4892rih3UAz53CYcTff/Usz5/zN4WP9fzv/5HuggBBNKIgp5hflHAw4u6NKfZOKd//+gaHshXXd6qkogyLKv7e//NExAoSWaqsAM5KlHDA/q7XkvyiNgG4Igq5b9Tpi/e59eEWIjGGsKzxz///01j/+pPVG9vp//srDBcnr6FF1OsATUsFt3+Sd///8krD//6YzwKXLK69AFyQMokysM0J//NExBMSUZq0AMyElHAbSKMWkkSaEBh2PdAY4c02NKTkoebrN38p/UjdSff9nqhnJ1Kr9UU7KFEaRKFWf+z///14qmrrODXAwyUPuhet0IhUNl9m0Mz1puQByQjnL4yw//NExBwQ+KasAKZeTAZ6g+7yAhgw41ceyui4kyp7EmHXZCIjz1A3oYqEjhUJd1Rpn////9ex/5VX+AiwmJXso7K2FGP1IWTFNnLRUQN7i+ee6ZGUuHC6lfjpIZNvr//V//NExCsSOZ6kANZKlDc///WTeo9vVvqT41q5mP/8vygKZ0OPlgI9QVP/KJzn8twkyL5KyL14hExEqNhdEjp0dhmUAEpDMk6zJC/A35BsFCjHDasfiDH1tv9SLexW6//y//NExDURoZagANTElClbV0M+m3/QYe5vrt////9eqpqdw3gysLTqQP1Zcw8GQh4YomcYj7NhrAZJSI9SNibNgDRIGDBDmlR6JmTv/00fv9fqn5W4QKn/2N1OCEmYlxY9//NExEESaZKQAN0ElEu////2tAq/XX9ltJTvoI0p1eSQcgfxwzBDjFPwycMZ3LInGhwCBTM+fbVNgTDEfp5b+5vH7f/Y3qb7fZ/OGMeSzV3yAdlAzgU7////yNW40mA3//NExEoR6TqMANbEcOtJWFBYjnAA6TAWy+rBjFo4xKbDFhUcVnzABQ1cIMPPNL8brjM1pvrW5vIlIfLPgX/W2GAqdbrXgZ6zPI/////UsYlQB+o6z4cAzTc87odgKLNs//NExFURQIKAAOb0SEwRMT1Yy2LBYFuJD4qCTIIyAQFVBFp1Ti3mSyxtwJI3zDV8KqQRPWnoWDle33w0/9UgGkFWz3IBEIeOKOEFFlE0OAwFFxnh/HWkmGEl3oiFBIZI//NExGMQwJZ0AN8eTBqGB1gbXYISvG4OKPAOwqnOTGsyb+c4jHgk8XHua2wCnbmKKNAf/u45FaeLw0skBBM4GAEKg4DI8GL0aeBnIkfKBwmGgEZJBSdyl0mIRGWluvn8//NExHMSWKJoAOceTCYH3Ei2zBibzfzbEBZzo1YSc5cEw+mEEf9Sq//////61WSfjQkIzFnE8IWAaBhj+RmxSMoHGGuFrxZpci7eBhAcIKtPZ2leYcZGOAzUKj+O5Kcb//NExHwSUJ50AOceTIeFovE1Ofn/+057GD5cmnDZZMBTPs/WMLBmU3W/////6/Wqi9qzPGABFEp/EP1NThQx72tVsj7mJtpXz1PRgFGs11oyMAzJ0iojCgJzmngIG6Vn//NExIUVCQKEAObMcAGyl1ARx38g3zSDE/QCId2JCOxcjf//ST7a2VWWZXYKGDgWAq8UTJEUgGCUOO+m4cC4n1IakMhUVN2J6HQiiyxlLSRGfNauQVjV4ab/cCgnaDzA//NExIMS6PKUANaScG0vceWh7KnEGsk/iHd//+RrzkhWu//////qq4bmBCiRolbwNaNOTGjMvgWNHJRwLI70AAJWWfmrI8MIty8kjGzY7DVCOgufar6Sod6xTVCIS/2h//NExIoUQN6YAN6ecNA1ed0f//////9PKM5dR+it/////+qxb7ircTJNP+6AUtiwuD6WWG0Qj10CS+mMUB/e0E0LHR+ieteovazCC4LbGsJbqVFFk68OQ8KiObdy6Fj+//NExIwTwbKcANZOlL6ev//////6CYAIslcWWrP3MUGyLmaaq5IOVE9pTD6IQF4BwKMxh0Sqfq9tSsRCZqN2JYaUchqyp54iIE8ovj5hBdwjcshvLKxup23///9tJ2Hq//NExJAS6bKcANZKlJ6Q4r/////pRYYu6lIhUjS2RP6mWY7gHOoEZ1gRPiLGH4ktg0DGp3uuAFinbhh+1SHcTTKWwy/ZmhV6HJdgtjRw7IHHRKt5cKGe/v1///////QY//NExJcTKM6YAM6wcEufQ8XCJ1v////+0KKavYQWQuYJqt0hs0bImCRuBFjGkov3Zf6FHsMMRmDEZAxNPLISSeQ2rsUg9jLyxKvXbdZsds2l0sWfvCkKMczN7/////////NExJ0VqbaUANZKlPWK/vm6lOOM+EDSgdZgqLmKttBiT2mLNnvXNTcWUBcOEQpa/kmCoRqErvoJzGinyuTEPj8VV7m+TXVsMhxNt4sBClK4ObewYvlXq9+/j0p///y///NExJkSoa6YANYElOUTv/8dMU6HtYEIJ2gQPRjBR/Fv64soQYBRz5xOJFUVgsfboYwgGBUxhDdH9lqMIBMztVWv//LeYyqrTWJFkSSNkP/9aozjk1gNJg7NogMxTZpn//NExKET+P6YANaecGRDAW841CuZCTL3rCo0xYhSThg0eYkY2egZe7VvWgAxldu3/X73c0rLKxgxjrv+ppx/hxumHzNsWGiSgvG03AEYA/p19y453CrgK3mBFoa1I8Si//NExKQQmQ6gAM5McMxoRraywSHpl0uQoG2sZlc9FWI3O1Zf39On9OqswMgs998USd7XOYIhwdKiAMp0b1lGsoKSqGTMiolFxgIdI+TBlRK9/Id0KACVO3OghiNUVf1B//NExLQROSacAM6EcHi2Onls+7d//f///+tWChWne3HAflA57McWcSmbKWIqmssXgbge4sBiKQJY1PrvGWJDR2jlAZ/ByxDwwIKDIaKTC8RYjNMaZasvpf//X///lmeB//NExMISaTaUAMaEcCBJgLztzxOjrd56oOvTVI2icygMoKigHcAAIQcfMgeMx+ADGJNcEkIFEhFyABPgGJHPDRwPeDahaQ0cLBEHIiJ1QNUHprS//p////1KqFRio1tC//NExMsPwUKUANYEcPSczjv0lTvrYASJnOoQVM9Kbhk0K42SmviIFJolhSBqqQiM4OQo4nDBQEoKwc2bgkAFEs4Qt0l26+6Z983X/1b///fIiFQUbDttpAMG16hXKMvS//NExN8SKVKIANTElPZvYL//69EZCgZq5p9KidkLYlaVgcXGpcH0Y3LL+WXIjGaDOazs5pDTXhnw3sMi6p56i8yokg0RdUgakXcouNGotAAamwtYMaHDpl45JV7EJPHx//NExOkUOZ58ANyElI3p13X1PQUYDxEY45atU4VhDmWxIuDq42Phtqev/2uO3fdZwew8AR+/lyFC0MBHAe/1xRzw/GoeQ9E3v+669gJogiEH0jkJf8f1V+8fR+BMIQE8//NExOsS+Vp0ANLElAeDZ+5zY+bun3vsPYIAfASwSA/CKIgZRdTP8/1d7//2AgmwD4NRrEEMATy8EwPY3/8X7o6/+qtjLY24ZbPJA3lZAEskkAUjaVIgmk4fFWYCAm1A//NExPIWcJZsAVkwAEBNRIKuEvKhsSnYi5Y9wav4NPlqwVceBpYaLFg7LHsSuxKCoLA0eWCodEQNHlgqGoKlQ1Khsr1hr6gaOrDXWGkVDjZheesRSibLBSoKoFp1FHjb//NExOskkyp4AZhYABOcs20hLkwZh3FtVCeY+3kabZoeXYW0SxGUYypdAR2JYeFwUat1SBZVyp4UDo91/sVLWGDFhtOo1umWJQ4Up40rpK50pYgPgcuGokhYDGwKBSQ4//NExKsRMDJsAcMYADwFDIEDUcEwQkWETRVwaFBYKmVsK2qaNsYsBLUdypUz6121ukXV/TI+qWtsclULGyWDUYrSpFoUBGAnIKQEa/hgEEBOoZwFAEmY1X2oDBVVG6Ag//NExLkTsUIMAEpGcC8RPOqArrA1iHEUqWhU6R1yroUHuy1itbiXLf7O08gCWBKhvk0dv1Ao2SRAOCHuUBlUxZynAopiIcYci4eSGRgPnFC0WiEKoNPS5JlQOH1N1irE//NExL0REF4MAHmGKJh+hyharqFWJM81Fhb6hakzzUVb9QsqCg09FfsVZc7Mcn5aJMTGkjSCRE1BaIYGMKCgxApY5MFJAyRAQuAiQFFUCplsWNBVIqkYgcgewBMc0Cih//NExMsRAOX4AEjGcKpFk///8X66DQ6JwwRnIzWRHjbGxaMnw4weQuLh33NmkVqUmhcbls07lSkpYdSaG4tSaarjdFK7PdnZnZ2dnZnZ2dnZn//uzuztuzu39nbs7M/7//NExNoSiInsAHmGTLs7OzsO5l0a3MmDRo0aMzznKzzISCFH3WAQ0euFu+3RQSBIg/DxrHfsSFA5gfPzuMwPM2yxs/t3lcn52EgsNx+cHjbyxtWw8eQn7FV8B5BEvgWH//NExOIQ4JG8AMGGTKZkoHpmIcxA8IyMPC99nk2y6h7PT92YQiEyiGQQm+xBD9yafhz9937w8nZPSBAgT0ghBDLbTM5iB6fBAh94OF08Hk9PJsQw8nUYxDNvYyCBAQoc//NExPEWeo08AEmEuKAshyuG6gwCo0JgkSBgpc0SJDwVO48FQ2JQVAR4kRvlt2nW6DUs+d/JVnZZ8iIvyMFTqwVln6j0RDh50RVhqVd8RBxMQU1FMy4xMDCqTEFNRTMu//NExOolWxHMAMsMuTEwMKqqqqqqqqqqqqqqqqqqqqqqqqqqqqqqqqqqqqqqqqqqqqqqqqqqqqqqqqqqqqqqqqqqqqqqqqqqqqqqqqqqqqqqqqqqqqqqqqqqTEFNRTMu//NExKcRAFXgAHmMJDEwMKqqqqqqqqqqqqqqqqqqqqqqqqqqqqqqqqqqqqqqqqqqqqqqqqqqqqqqqqqqqqqqqqqqqqqqqqqqqqqqqqqqqqqqqqqqqqqqqqqqTEFNRTMu//NExKwAAANIAAAAADEwMKqqqqqqqqqqqqqqqqqqqqqqqqqqqqqqqqqqqqqqqqqqqqqqqqqqqqqqqqqqqqqqqqqqqqqqqqqqqqqqqqqqqqqqqqqqqqqqqqqqqqqqqqqq//NExKwAAANIAAAAAKqqqqqqqqqqqqqqqqqqqqqqqqqqqqqqqqqqqqqqqqqqqqqqqqqqqqqqqqqqqqqqqqqqqqqqqqqqqqqqqqqqqqqqqqqqqqqqqqqqqqqqqqqqqqqq//NExKwAAANIAAAAAKqqqqqqqqqqqqqqqqqqqqqqqqqqqqqqqqqqqqqqqqqqqqqqqqqqqqqqqqqqqqqqqqqqqqqqqqqqqqqqqqqqqqqqqqqqqqqqqqqqqqqqqqqqqqqq\" type=\"audio/x-wav\" />\n",
              "                    Your browser does not support the audio element.\n",
              "                </audio>\n",
              "              "
            ]
          },
          "metadata": {}
        }
      ],
      "source": [
        "# 영어 출력\n",
        "from gtts import gTTS\n",
        "from IPython.display import Audio\n",
        "\n",
        "eng_wav = gTTS('Hello World!')\n",
        "eng_wav.save('eng.wav')\n",
        "\n",
        "display(Audio('eng.wav', autoplay=True))"
      ]
    },
    {
      "cell_type": "code",
      "execution_count": 43,
      "metadata": {
        "id": "jVHUns3tCc6I",
        "colab": {
          "base_uri": "https://localhost:8080/",
          "height": 74
        },
        "outputId": "7d7314cc-b18e-42ac-8afa-442da5954cf1"
      },
      "outputs": [
        {
          "output_type": "display_data",
          "data": {
            "text/plain": [
              "<IPython.lib.display.Audio object>"
            ],
            "text/html": [
              "\n",
              "                <audio  controls=\"controls\" autoplay=\"autoplay\">\n",
              "                    <source src=\"data:audio/x-wav;base64,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\" type=\"audio/x-wav\" />\n",
              "                    Your browser does not support the audio element.\n",
              "                </audio>\n",
              "              "
            ]
          },
          "metadata": {}
        }
      ],
      "source": [
        "# 한글 출력\n",
        "from gtts import gTTS\n",
        "from IPython.display import Audio\n",
        "\n",
        "kor_wav = gTTS('안녕하세요! ', lang = 'ko')\n",
        "kor_wav.save('kor.wav')\n",
        "\n",
        "display(Audio('kor.wav', autoplay=True))"
      ]
    },
    {
      "cell_type": "code",
      "execution_count": 46,
      "metadata": {
        "id": "0eGwHVLyCjK6",
        "colab": {
          "base_uri": "https://localhost:8080/",
          "height": 74
        },
        "outputId": "443d1373-0904-426b-a8bb-cf3e60a47f6f"
      },
      "outputs": [
        {
          "output_type": "display_data",
          "data": {
            "text/plain": [
              "<IPython.lib.display.Audio object>"
            ],
            "text/html": [
              "\n",
              "                <audio  controls=\"controls\" autoplay=\"autoplay\">\n",
              "                    <source src=\"data:audio/x-wav;base64,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\" type=\"audio/x-wav\" />\n",
              "                    Your browser does not support the audio element.\n",
              "                </audio>\n",
              "              "
            ]
          },
          "metadata": {}
        }
      ],
      "source": [
        "# 간단한 txt 파일을 만들어 gTTS사용하여 읽어보세요.\n",
        "f = open('gtts.txt', 'w')\n",
        "f.write(\"1월 8일 월요일\")\n",
        "f.write(\"내일은 1월 9일 화요일\")\n",
        "f.close()\n",
        "\n",
        "f = open('gtts.txt', 'r')\n",
        "temp = ''\n",
        "while True:\n",
        "  line = f.readline()\n",
        "  if not line: break\n",
        "  temp += line\n",
        "f.close()\n",
        "\n",
        "kor_wav = gTTS(temp, lang='ko')\n",
        "kor_wav.save('kor.wav')\n",
        "\n",
        "display(Audio('kor.wav', autoplay=True))"
      ]
    },
    {
      "cell_type": "markdown",
      "metadata": {
        "id": "6hQoSubZsYux"
      },
      "source": [
        "### 5) Collections - Container datatypes\n",
        "https://docs.python.org/3/library/collections.html"
      ]
    },
    {
      "cell_type": "markdown",
      "metadata": {
        "id": "0Rg2Pdv9sqsO"
      },
      "source": [
        "#### 1.리스트(List)\n",
        "* 리스트의 특징\n",
        "    - 리스트는 여러 개의 데이터 값을 하나의 변수에 담을 수 있는 데이터 구조\n",
        "    - 리스트는 순서(인덱스)가 있고 데이터를 수정, 삭제, 추가 가능하다.\n",
        "    - 대괄호로 표현되고 내부 원소는 ,(쉼표)로 구분됨"
      ]
    },
    {
      "cell_type": "markdown",
      "metadata": {
        "id": "cDkUr4OlDeYG"
      },
      "source": [
        "- 리스트 생성 & 삭제"
      ]
    },
    {
      "cell_type": "code",
      "execution_count": 49,
      "metadata": {
        "id": "lxpVBPW1D26I",
        "colab": {
          "base_uri": "https://localhost:8080/",
          "height": 273
        },
        "outputId": "579abce2-2bf3-49b4-ef9f-ac67044e868d"
      },
      "outputs": [
        {
          "output_type": "stream",
          "name": "stdout",
          "text": [
            "[1, 2, ['a', 'b', ['사랑해', '파이썬']], 3]\n",
            "['a', '1', 1, [2, 3], -4]\n",
            "[1, 2, ['a', 'b', ['사랑해', '파이썬']], 3]\n"
          ]
        },
        {
          "output_type": "error",
          "ename": "NameError",
          "evalue": "name 'b' is not defined",
          "traceback": [
            "\u001b[0;31m---------------------------------------------------------------------------\u001b[0m",
            "\u001b[0;31mNameError\u001b[0m                                 Traceback (most recent call last)",
            "\u001b[0;32m<ipython-input-49-95865b524456>\u001b[0m in \u001b[0;36m<cell line: 15>\u001b[0;34m()\u001b[0m\n\u001b[1;32m     13\u001b[0m \u001b[0;34m\u001b[0m\u001b[0m\n\u001b[1;32m     14\u001b[0m \u001b[0mprint\u001b[0m\u001b[0;34m(\u001b[0m\u001b[0ma\u001b[0m\u001b[0;34m)\u001b[0m\u001b[0;34m\u001b[0m\u001b[0;34m\u001b[0m\u001b[0m\n\u001b[0;32m---> 15\u001b[0;31m \u001b[0mprint\u001b[0m\u001b[0;34m(\u001b[0m\u001b[0mb\u001b[0m\u001b[0;34m)\u001b[0m\u001b[0;34m\u001b[0m\u001b[0;34m\u001b[0m\u001b[0m\n\u001b[0m",
            "\u001b[0;31mNameError\u001b[0m: name 'b' is not defined"
          ]
        }
      ],
      "source": [
        "a = list()\n",
        "a = []\n",
        "a = [1,2,3]\n",
        "a = ['I', 'Love', 'Python']\n",
        "b = [1,2, '사랑해요', 'Python']\n",
        "b = ['a', '1', 1, [2,3], -4]\n",
        "a = [1,2,['a','b',['사랑해', '파이썬']], 3]\n",
        "print(a)\n",
        "print(b)\n",
        "\n",
        "# 리스트 삭제\n",
        "del(b)\n",
        "\n",
        "print(a)\n",
        "print(b)"
      ]
    },
    {
      "cell_type": "markdown",
      "metadata": {
        "id": "6pf8_bADDtwR"
      },
      "source": [
        "- 리스트 요소에 접근"
      ]
    },
    {
      "cell_type": "code",
      "execution_count": 50,
      "metadata": {
        "id": "8sM8U6uQD3QI",
        "colab": {
          "base_uri": "https://localhost:8080/"
        },
        "outputId": "45d147cb-5569-499c-8d63-3a2044738c71"
      },
      "outputs": [
        {
          "output_type": "stream",
          "name": "stdout",
          "text": [
            "2\n",
            "['a', 'b', ['사랑해', '파이썬']]\n",
            "b\n"
          ]
        }
      ],
      "source": [
        "print( a[1] )\n",
        "print( a[2] )\n",
        "print( a[2][1] )"
      ]
    },
    {
      "cell_type": "markdown",
      "metadata": {
        "id": "yn8xt-ZaDt4w"
      },
      "source": [
        "- 리스트 요소 추가 / 변경"
      ]
    },
    {
      "cell_type": "code",
      "execution_count": 51,
      "metadata": {
        "id": "OQlz2jaoD3lf",
        "colab": {
          "base_uri": "https://localhost:8080/"
        },
        "outputId": "fb598f64-295a-4316-bbbf-4602ec2e1947"
      },
      "outputs": [
        {
          "output_type": "stream",
          "name": "stdout",
          "text": [
            "[1, 2, ['a', 'b', ['사랑해', '파이썬']], 3]\n",
            "[1, 2, ['a', 'b', ['사랑해', '파이썬']], 3, '봄']\n",
            "[1, '봄', 2, ['a', 'b', ['사랑해', '파이썬']], 3, '봄']\n"
          ]
        }
      ],
      "source": [
        "print(a)\n",
        "a.append('봄')     # 리스트 맨 끝에 추가\n",
        "print(a)\n",
        "a.insert(1, '봄')  # 리스트명.insert(인덱스위치, 값)\n",
        "print(a)"
      ]
    },
    {
      "cell_type": "markdown",
      "metadata": {
        "id": "ePPyveBgDzqc"
      },
      "source": [
        "- 리스트 요소 삭제"
      ]
    },
    {
      "cell_type": "code",
      "execution_count": 52,
      "metadata": {
        "id": "hwC1ZnmWD4N8",
        "colab": {
          "base_uri": "https://localhost:8080/"
        },
        "outputId": "839ac09f-c1ed-4fec-90c0-0448785c975f"
      },
      "outputs": [
        {
          "output_type": "stream",
          "name": "stdout",
          "text": [
            "[1, '봄', 2, ['a', 'b', ['사랑해', '파이썬']], 3, '봄']\n",
            "[1, '봄', 2, ['a', 'b', ['사랑해', '파이썬']], 3]\n",
            "[1, 2, ['a', 'b', ['사랑해', '파이썬']], 3]\n"
          ]
        }
      ],
      "source": [
        "print(a)\n",
        "a.pop()     # 리스트 맨 끝 요소 삭제\n",
        "print(a)\n",
        "a.remove('봄')  # 리스트명.remove(값), 단 여러 개 일 경우 첫 번째만 삭제됨\n",
        "print(a)"
      ]
    },
    {
      "cell_type": "markdown",
      "metadata": {
        "id": "-gkAog5jsseH"
      },
      "source": [
        "#### 2.딕셔너리(dictionary)\n",
        "* 딕셔너리의 특징\n",
        "    - 딕셔너리는 쌍이 하나로 묶인 자료구조\n",
        "    - 인덱스를 의미하는 키(key)와 자료의 내용인 값(value)이 중괄호{}로 묶어 이루어짐\n",
        "    - 자료의 순서가 없다.\n"
      ]
    },
    {
      "cell_type": "markdown",
      "metadata": {
        "id": "BOTk4J7jEMFQ"
      },
      "source": [
        "- 딕셔너리 키(key)와 값(value)에 접근하기"
      ]
    },
    {
      "cell_type": "code",
      "execution_count": 53,
      "metadata": {
        "id": "DZkLi3gHETI8",
        "colab": {
          "base_uri": "https://localhost:8080/"
        },
        "outputId": "845f1aaa-4fb2-426a-d9e0-8e5c52062a4a"
      },
      "outputs": [
        {
          "output_type": "stream",
          "name": "stdout",
          "text": [
            "100\n",
            "---방법1---\n",
            "국어 => 100\n",
            "수학 => 90\n",
            "영어 => 80\n",
            "---방법2---\n",
            "국어 => 100\n",
            "수학 => 90\n",
            "영어 => 80\n"
          ]
        }
      ],
      "source": [
        "scores = {'국어': 100, '수학': 90, '영어': 80}\n",
        "\n",
        "print(scores['국어'])  # 딕셔너리는 키로 접근한다.\n",
        "\n",
        "# 방법1\n",
        "print('---방법1---')\n",
        "for key in scores:\n",
        "    print('%s => %s' % (key, scores[key]))\n",
        "\n",
        "# 방법2\n",
        "print('---방법2---')\n",
        "for key, value in scores.items():\n",
        "    print('%s => %s' % (key, value))"
      ]
    },
    {
      "cell_type": "code",
      "execution_count": 54,
      "metadata": {
        "id": "JQ3zRyheEX9u",
        "colab": {
          "base_uri": "https://localhost:8080/"
        },
        "outputId": "87219aed-2a81-4f30-d6e8-77675781449b"
      },
      "outputs": [
        {
          "output_type": "stream",
          "name": "stdout",
          "text": [
            "dict_keys(['국어', '수학', '영어'])\n",
            "dict_values([100, 90, 80])\n",
            "dict_items([('국어', 100), ('수학', 90), ('영어', 80)])\n"
          ]
        }
      ],
      "source": [
        "print(scores.keys())   # 키만 추출\n",
        "print(scores.values()) # 키만 추출\n",
        "print(scores.items())  # (키,값)쌍 형태로 추출"
      ]
    },
    {
      "cell_type": "markdown",
      "metadata": {
        "id": "iHKInESTEP78"
      },
      "source": [
        "- 딕셔너리에 요소 추가/수정/삭제"
      ]
    },
    {
      "cell_type": "code",
      "execution_count": 55,
      "metadata": {
        "id": "2pWI1v5-vfSS",
        "colab": {
          "base_uri": "https://localhost:8080/"
        },
        "outputId": "a9820200-1469-49ce-becd-81783529f230"
      },
      "outputs": [
        {
          "output_type": "stream",
          "name": "stdout",
          "text": [
            "{'국어': 100, '수학': 90, '영어': 80, 'music': 100}\n",
            "{'국어': 100, '수학': 99, '영어': 80, 'music': 100}\n",
            "{'국어': 100, '수학': 99, 'music': 100}\n"
          ]
        }
      ],
      "source": [
        "# 키로 요소 추가하기\n",
        "scores['music'] = 100\n",
        "print(scores)\n",
        "\n",
        "# 요소 값 수정하기\n",
        "scores['수학'] = 99\n",
        "print(scores)\n",
        "\n",
        "# 요소 삭제하기\n",
        "del (scores['영어'])\n",
        "print(scores)"
      ]
    },
    {
      "cell_type": "markdown",
      "metadata": {
        "id": "6tt4-j1YuIqw"
      },
      "source": [
        "#### 3.튜플(Tuple)\n",
        "* 튜플의 특징\n",
        "    - 리스트와 유사한 형태로 대괄호[] 대신 소괄호() 사용\n",
        "    - 요소(element)들의 수정과 추가가 불가하다\n",
        "    - 튜플은 소괄호 생각가능, 요소 항목이 하나인 튜플은 뒤에 쉼표를 붙임 --> (3, )"
      ]
    },
    {
      "cell_type": "code",
      "execution_count": 56,
      "metadata": {
        "id": "TweNVyz6EuLa",
        "colab": {
          "base_uri": "https://localhost:8080/"
        },
        "outputId": "1f815d97-bfc2-409d-8cea-7c9fef983ee3"
      },
      "outputs": [
        {
          "output_type": "stream",
          "name": "stdout",
          "text": [
            "()\n",
            "()\n",
            "(1,)\n",
            "(1, 2, 3)\n",
            "('I', 'Love', 'Python')\n",
            "('I', 'Love', 'Python')\n"
          ]
        }
      ],
      "source": [
        "# 튜플 자료형 생성\n",
        "a = tuple()\n",
        "print(a)\n",
        "a = ()\n",
        "print(a)\n",
        "a = (1,)\n",
        "print(a)\n",
        "a = (1,2,3)\n",
        "print(a)\n",
        "a = ('I', 'Love', 'Python')\n",
        "print(a)\n",
        "b = (1,2, '사랑해요', 'Python')\n",
        "print(a)"
      ]
    },
    {
      "cell_type": "markdown",
      "metadata": {
        "id": "ZM3tCq4nuIzM"
      },
      "source": [
        "#### 4.집합(Set)\n",
        "* 집합의 특징\n",
        "    - 딕셔너리에서 키만 모아 놓은 형태로 중괄호{} 사용함\n",
        "    - 딕셔너리에서 키가 중복되면 안되듯이 집합은 항상 유니크한(중복이 안된) 데이터만 가짐\n",
        "    - 자료의 순서가 없음"
      ]
    },
    {
      "cell_type": "code",
      "execution_count": 57,
      "metadata": {
        "id": "op5gE5wuExRB",
        "colab": {
          "base_uri": "https://localhost:8080/"
        },
        "outputId": "643b02eb-726c-4a14-dc2d-33d6820bba08"
      },
      "outputs": [
        {
          "output_type": "stream",
          "name": "stdout",
          "text": [
            "set()\n",
            "{1, 2, 3}\n",
            "{1, 2, 3}\n",
            "{'o', 'e', 'H', 'l'}\n"
          ]
        }
      ],
      "source": [
        "# 집합 자료형 생성\n",
        "a = set()\n",
        "print(a)\n",
        "a = set([1,2,3])\n",
        "print(a)\n",
        "a = {1,2,3}\n",
        "print(a)\n",
        "a = set('Hello')\n",
        "print(a)"
      ]
    },
    {
      "cell_type": "markdown",
      "metadata": {
        "id": "yFkT_Dj8pmwd"
      },
      "source": [
        "\n",
        "\n",
        "---\n",
        "\n"
      ]
    },
    {
      "cell_type": "markdown",
      "metadata": {
        "id": "Tnw0V2MMlNQU"
      },
      "source": [
        "## 1-3. 조건문과 반복"
      ]
    },
    {
      "cell_type": "markdown",
      "metadata": {
        "id": "IWmSe3yJveWT"
      },
      "source": [
        "### 1) if 조건문"
      ]
    },
    {
      "cell_type": "markdown",
      "metadata": {
        "id": "1kGZw87MyMkM"
      },
      "source": [
        "- if ~"
      ]
    },
    {
      "cell_type": "code",
      "execution_count": 58,
      "metadata": {
        "id": "uLp2OZ6Bv1Vx"
      },
      "outputs": [],
      "source": [
        "a = 200\n",
        "if a < 100:\n",
        "    print(f\"{a}는 100보다 작군요\")"
      ]
    },
    {
      "cell_type": "markdown",
      "metadata": {
        "id": "0-hjcmhTyQ0S"
      },
      "source": [
        "- if ~ else ~"
      ]
    },
    {
      "cell_type": "code",
      "execution_count": 59,
      "metadata": {
        "id": "LmGOKZwJsUzQ",
        "colab": {
          "base_uri": "https://localhost:8080/"
        },
        "outputId": "37af2ac3-8cf1-42be-83e8-4affb0d9abd0"
      },
      "outputs": [
        {
          "output_type": "stream",
          "name": "stdout",
          "text": [
            "200는 100보다 작거나 같군요\n"
          ]
        }
      ],
      "source": [
        "a = 200\n",
        "if a < 100:\n",
        "    print(f\"{a}는 100보다 작군요\")\n",
        "else:\n",
        "    print(f\"{a}는 100보다 작거나 같군요\")"
      ]
    },
    {
      "cell_type": "markdown",
      "metadata": {
        "id": "FRTcqd98yW9l"
      },
      "source": [
        "- if {if ~ else~} else ~"
      ]
    },
    {
      "cell_type": "code",
      "execution_count": 60,
      "metadata": {
        "id": "wjLY8xMVsVGP",
        "colab": {
          "base_uri": "https://localhost:8080/"
        },
        "outputId": "93b6aea2-f6c8-46f3-eae1-7cc3b39e9930"
      },
      "outputs": [
        {
          "output_type": "stream",
          "name": "stdout",
          "text": [
            "200는 200보다 작거나 같군요\n"
          ]
        }
      ],
      "source": [
        "a = 200\n",
        "if a > 100:\n",
        "    if a > 200:\n",
        "        print(f\"{a}는 200보다 크군요\")\n",
        "    else:\n",
        "         print(f\"{a}는 200보다 작거나 같군요\")\n",
        "else:\n",
        "    print(f\"{a}는100보다 작거나 같군요\")"
      ]
    },
    {
      "cell_type": "markdown",
      "metadata": {
        "id": "BqCQaIWPx-Cj"
      },
      "source": [
        "- if와 else 문장을 --> elif 문장으로 변환"
      ]
    },
    {
      "cell_type": "code",
      "execution_count": 61,
      "metadata": {
        "id": "9tpbC6y3x-cs",
        "colab": {
          "base_uri": "https://localhost:8080/"
        },
        "outputId": "ead4094e-216b-4e6a-b575-eb8979da03f3"
      },
      "outputs": [
        {
          "output_type": "stream",
          "name": "stdout",
          "text": [
            "택시를 타고 가세요\n"
          ]
        }
      ],
      "source": [
        "# if, else 문장\n",
        "pocket = ['paper', 'handphone']\n",
        "card = True\n",
        "\n",
        "if 'money' in pocket:\n",
        "    print('택시를 타고 가세요')\n",
        "else:\n",
        "    if card:\n",
        "        print('택시를 타고 가세요')\n",
        "    else:\n",
        "        print('걸어서 가세요')"
      ]
    },
    {
      "cell_type": "code",
      "execution_count": 62,
      "metadata": {
        "id": "D4li12w4yn-S",
        "colab": {
          "base_uri": "https://localhost:8080/"
        },
        "outputId": "e41cc094-e0a4-4bc5-d202-224878531649"
      },
      "outputs": [
        {
          "output_type": "stream",
          "name": "stdout",
          "text": [
            "택시를 타고 가세요\n"
          ]
        }
      ],
      "source": [
        "# if elif 문장\n",
        "pocket = ['paper', 'handphone']\n",
        "card = True\n",
        "\n",
        "if 'money' in pocket:\n",
        "    print('택시를 타고 가세요')\n",
        "elif card:\n",
        "    print('택시를 타고 가세요')\n",
        "else:\n",
        "    print('걸어서 가세요')"
      ]
    },
    {
      "cell_type": "markdown",
      "metadata": {
        "id": "iy3brWLHldB_"
      },
      "source": [
        "### [실습문제] : 짝수/홀수 판별하기"
      ]
    },
    {
      "cell_type": "code",
      "execution_count": 64,
      "metadata": {
        "id": "sRD0jgFoxAIT",
        "colab": {
          "base_uri": "https://localhost:8080/"
        },
        "outputId": "c2a3f1e0-159a-433e-94c9-e7fdf87e5659"
      },
      "outputs": [
        {
          "output_type": "stream",
          "name": "stdout",
          "text": [
            "숫자를 입력해 주세요: 3\n",
            "입력된 수 : 3 ==> 홀수\n"
          ]
        }
      ],
      "source": [
        "x = int(input('숫자를 입력해 주세요: '))\n",
        "\n",
        "if x % 2 == 0:\n",
        "    print('입력된 수 : %d ==> 짝수' % x)\n",
        "else:\n",
        "    print('입력된 수 : %d ==> 홀수' % x)"
      ]
    },
    {
      "cell_type": "markdown",
      "metadata": {
        "id": "PuPFgEc4xKC4"
      },
      "source": [
        "### **[미션]** : 커피 자판기 프로그램 만들기\n",
        "아래 조건을 만족하는 커피 자판기 조건문을 만들어보세요.<br><br>\n",
        "[커피 자판기 프로그램]<br>\n",
        "친구들과 현금 커피 자동주문 머신 앞에서\n",
        " - 아메리카노 2잔과 카페라테 2잔 카푸치노 1잔을 주문하였다.\n",
        " - 아메리카노 한잔에 2500원이고\n",
        " - 카페라테는 한잔에 3000원\n",
        " - 카푸치노는 한잔에 3000원이다.\n",
        "커피 종류와 잔 수를 결정한 후 현금 15000원을 투입하고 잔돈을 1000원 받았다."
      ]
    },
    {
      "cell_type": "code",
      "execution_count": 78,
      "metadata": {
        "id": "9GJrF8Foxami",
        "colab": {
          "base_uri": "https://localhost:8080/"
        },
        "outputId": "6039b5fb-e8fd-419b-8704-49547ce622b6"
      },
      "outputs": [
        {
          "output_type": "stream",
          "name": "stdout",
          "text": [
            "[커피 자판기 메뉴]\n",
            "-----------------------------\n",
            "- 아메리카노 2500원\n",
            "- 카페라테   3000원\n",
            "- 카푸치노   3000원\n",
            "입니다. 원하시는 커피종류와 잔수를 입력하세요.\n",
            "-----------------------------\n",
            "아메리카노 몇잔?: 2\n",
            "카페라떼 몇잔?: 2\n",
            "카푸치노 몇잔?: 1\n",
            "지불할 총 금액은 14000원 입니다\n",
            "돈을 넣어주세요: 15000\n",
            "거스름돈은 1000원 입니다\n"
          ]
        }
      ],
      "source": [
        "menu = '''[커피 자판기 메뉴]\n",
        "-----------------------------\n",
        "- 아메리카노 2500원\n",
        "- 카페라테   3000원\n",
        "- 카푸치노   3000원\n",
        "입니다. 원하시는 커피종류와 잔수를 입력하세요.\n",
        "-----------------------------\\n'''\n",
        "\n",
        "coffee1 = int(input(menu+\"아메리카노 몇잔?: \"))\n",
        "coffee2 = int(input('카페라떼 몇잔?: '))\n",
        "coffee3 = int(input('카푸치노 몇잔?: '))\n",
        "cost = coffee1*2500 + coffee2*3000 + coffee3*3000\n",
        "print(f'지불할 총 금액은 {cost}원 입니다')\n",
        "money = input('돈을 넣어주세요: ')\n",
        "money = int(money)\n",
        "if money-cost < 0:\n",
        "  print(f'입력한 금액이 부족합니다. {cost-money}원을 넣어주세요')\n",
        "else:\n",
        "  print(f'거스름돈은 {money-cost}원 입니다')"
      ]
    },
    {
      "cell_type": "markdown",
      "metadata": {
        "id": "HeSfsBSOzEj8"
      },
      "source": [
        "* **조건부 표현식**\n",
        "    - if else 문장을 --> 조건부 표현식으로 변환"
      ]
    },
    {
      "cell_type": "code",
      "execution_count": 66,
      "metadata": {
        "id": "MPF2oMsqzTer",
        "colab": {
          "base_uri": "https://localhost:8080/"
        },
        "outputId": "eafc7e59-ebe9-44da-f4c4-8f9e13c24df0"
      },
      "outputs": [
        {
          "output_type": "stream",
          "name": "stdout",
          "text": [
            "점수를 입력하세요: 20\n",
            "failure\n"
          ]
        }
      ],
      "source": [
        "score = int(input('점수를 입력하세요: '))\n",
        "\n",
        "if score >= 60:\n",
        "    print('success')\n",
        "else:\n",
        "    print('failure')\n"
      ]
    },
    {
      "cell_type": "code",
      "execution_count": 67,
      "metadata": {
        "id": "NECzBnNLzXcI",
        "colab": {
          "base_uri": "https://localhost:8080/"
        },
        "outputId": "4c06dfb7-2323-419d-f941-e6e3a98ea0c4"
      },
      "outputs": [
        {
          "output_type": "stream",
          "name": "stdout",
          "text": [
            "failure\n"
          ]
        }
      ],
      "source": [
        "# 간단하게 한 줄로 표현한 방식\n",
        "print('success') if score >=60 else print('failure')"
      ]
    },
    {
      "cell_type": "markdown",
      "metadata": {
        "id": "AxG9v43e0DAD"
      },
      "source": [
        "\n",
        "\n",
        "---\n",
        "\n"
      ]
    },
    {
      "cell_type": "markdown",
      "metadata": {
        "id": "kNZGrl9J0ESt"
      },
      "source": [
        "### 2) for 반복문\n",
        "* for반복문의 특징\n",
        "    - 유한 개수(번)의 반복\n",
        "    - 반복 회수 부분에 range()함수, 문자열, container 자료형 사용 가능"
      ]
    },
    {
      "cell_type": "code",
      "execution_count": 68,
      "metadata": {
        "id": "UFJvBSWx1opU",
        "colab": {
          "base_uri": "https://localhost:8080/"
        },
        "outputId": "d021c5f5-daee-4982-d32a-b0bd5aecd70f"
      },
      "outputs": [
        {
          "output_type": "stream",
          "name": "stdout",
          "text": [
            "1에서 10까지의 합계: 55\n"
          ]
        }
      ],
      "source": [
        "# range()함수 사용한 for반복\n",
        "hap = 0\n",
        "for i in range(1,11,1):\n",
        "    hap = hap + i\n",
        "\n",
        "print(f'1에서 10까지의 합계: {hap}')"
      ]
    },
    {
      "cell_type": "code",
      "execution_count": 69,
      "metadata": {
        "id": "BAO0QgbE2Ky5",
        "colab": {
          "base_uri": "https://localhost:8080/"
        },
        "outputId": "15d405c6-f85e-4726-dbaf-11add0bde2b3"
      },
      "outputs": [
        {
          "output_type": "stream",
          "name": "stdout",
          "text": [
            "파\n",
            "이\n",
            "썬\n"
          ]
        }
      ],
      "source": [
        "# 문자열 사용한 for반복\n",
        "a = '파이썬'\n",
        "for i in a:   #\n",
        "    print(i)"
      ]
    },
    {
      "cell_type": "code",
      "execution_count": 70,
      "metadata": {
        "id": "Ujbxf0wF14zh",
        "colab": {
          "base_uri": "https://localhost:8080/"
        },
        "outputId": "397fece1-a2a2-4a49-84f1-7b912c23cec5"
      },
      "outputs": [
        {
          "output_type": "stream",
          "name": "stdout",
          "text": [
            "[70, 60, 55, 75, 95, 90, 80, 80, 85, 100] 안의 모든 합은: 790\n"
          ]
        }
      ],
      "source": [
        "# 리스트 사용한 for반복\n",
        "a_list = [70, 60, 55, 75, 95, 90, 80, 80, 85, 100]\n",
        "hap = 0\n",
        "for i in a_list:\n",
        "    hap += i   # hap = hap + i\n",
        "\n",
        "print(f'{a_list} 안의 모든 합은: {hap}')"
      ]
    },
    {
      "cell_type": "markdown",
      "metadata": {
        "id": "QxFXPpKG1dsT"
      },
      "source": [
        "### **[미션]** : 1~N까지 짝수 제외 합계 구하기\n",
        "숫자를 입력받아 1~n까지의 합을 구할 때 짝수를 제외하고 합을 구하기"
      ]
    },
    {
      "cell_type": "code",
      "execution_count": 73,
      "metadata": {
        "id": "nckj6uyB07eo",
        "colab": {
          "base_uri": "https://localhost:8080/"
        },
        "outputId": "841d6e90-382a-4b5f-ebc7-a11be23b444e"
      },
      "outputs": [
        {
          "output_type": "stream",
          "name": "stdout",
          "text": [
            "합계를 구할 숫자 입력:100\n",
            "1 ~ 100까지 짝수를 제외한 합은: 2500\n"
          ]
        }
      ],
      "source": [
        "n = input(\"합계를 구할 숫자 입력:\")\n",
        "n = int(n)\n",
        "nums = sum(list(range(1, n, 2)))\n",
        "print(f'1 ~ {n}까지 짝수를 제외한 합은: {nums}')"
      ]
    },
    {
      "cell_type": "markdown",
      "metadata": {
        "id": "t4ULklkH0MKe"
      },
      "source": [
        "### 3) while 반복문"
      ]
    },
    {
      "cell_type": "markdown",
      "metadata": {
        "id": "XaBzqnN808Tn"
      },
      "source": [
        "* while 반복문의 특징\n",
        "    - 특정 조건이 참이될 동안의 반복\n",
        "    - 무한 개수(번)의 반복 -> 단, 빠져나올 조건(break)이 필요"
      ]
    },
    {
      "cell_type": "code",
      "execution_count": 74,
      "metadata": {
        "id": "kj2Z6IuO1Y2W",
        "colab": {
          "base_uri": "https://localhost:8080/"
        },
        "outputId": "574ab55e-944f-44c6-87d2-ee138b974025"
      },
      "outputs": [
        {
          "output_type": "stream",
          "name": "stdout",
          "text": [
            "더할 첫 번째 숫자: 4\n",
            "더할 두 번째 숫자: 3\n",
            "4 + 3 = 7\n",
            "더할 첫 번째 숫자: 1\n",
            "더할 두 번째 숫자: 0\n",
            "1 + 0 = 1\n",
            "더할 첫 번째 숫자: 0\n",
            "0이 입력되어서 반복문을 탈출했습니다.\n"
          ]
        }
      ],
      "source": [
        "0num1, num2 = 0, 0\n",
        "while True:\n",
        "    num1 = int(input(\"더할 첫 번째 숫자: \"))\n",
        "    if num1 == 0:\n",
        "        break\n",
        "    num2 = int(input(\"더할 두 번째 숫자: \"))\n",
        "\n",
        "    print(f'{num1} + {num2} = {num1 + num2}')\n",
        "\n",
        "print(\"0이 입력되어서 반복문을 탈출했습니다.\")"
      ]
    },
    {
      "cell_type": "markdown",
      "metadata": {
        "id": "F_I6RUyD29qQ"
      },
      "source": [
        "### **[미션]** : 도둑잡기 게임 만들기\n",
        "경찰에 쫓기던 범인이 3개의 방 중에 한 곳에 숨어버렸습니다. 범인은 방문을 열 때마다 무작위로 3개의 방 중 하나의 방으로 이동합니다. 3개의 방 중 하나의 방을 선택했을 때 범인이 있다면 100점, 없을 때 -10점을 부여하고 범인을 잡으면 게임을 종료하는 프로그램을 만들어 보세요."
      ]
    },
    {
      "cell_type": "code",
      "execution_count": 89,
      "metadata": {
        "id": "Og2hynkD290F",
        "colab": {
          "base_uri": "https://localhost:8080/"
        },
        "outputId": "b8c2718f-6634-4b72-fe3e-3ae294ed06bc"
      },
      "outputs": [
        {
          "output_type": "stream",
          "name": "stdout",
          "text": [
            "방법호입력(1~3): 3\n",
            "범인을 찾지 못했다.점수는 -10\n",
            "방법호입력(1~3): 2\n",
            "범인을 찾지 못했다.점수는 -20\n",
            "방법호입력(1~3): 1\n",
            "범인을 찾지 못했다.점수는 -30\n",
            "방법호입력(1~3): 1\n",
            "범인을 찾지 못했다.점수는 -40\n",
            "방법호입력(1~3): 1\n",
            "범인 체포. 점수는 60\n"
          ]
        }
      ],
      "source": [
        "import random\n",
        "\n",
        "score = 0\n",
        "\n",
        "while True:\n",
        "  croom = random.randint(1, 3)\n",
        "  uroom = input(\"방법호입력(1~3): \")\n",
        "  uroom = int(uroom)\n",
        "  if croom == uroom:\n",
        "    score += 100\n",
        "    print(f'범인 체포. 점수는 {score}')\n",
        "    break\n",
        "  else:\n",
        "    score -= 10\n",
        "    print(f'범인을 찾지 못했다.점수는 {score}')"
      ]
    },
    {
      "cell_type": "markdown",
      "metadata": {
        "id": "vog_-hjk3I-d"
      },
      "source": [
        "### **[미션]** : 공이 튕긴 횟수 구하기\n",
        "공을 일정 높이에서 던졌을 때, 원래 높이의 1/2만큼 튀어 오른다고 합니다. 그러다가 높이가 0.00001m보다 낮으면 튀어오르지 않는다고 합니다. while문을 이용하여 이 프로그램을 만들어 보세요."
      ]
    },
    {
      "cell_type": "code",
      "execution_count": 92,
      "metadata": {
        "id": "v1bfJ76E3JFn",
        "colab": {
          "base_uri": "https://localhost:8080/"
        },
        "outputId": "d7c270bd-20d5-4a7e-e993-5bcaead4cc99"
      },
      "outputs": [
        {
          "output_type": "stream",
          "name": "stdout",
          "text": [
            "공의 높이를 입력하세요(meter): 30\n",
            "30 위치에서 공의 튕긴 횟수는 총 22번 입니다.\n"
          ]
        }
      ],
      "source": [
        "length = input('공의 높이를 입력하세요(meter): ')\n",
        "meter, cnt = int(length), 0\n",
        "while meter >= 0.00001:\n",
        "  meter /= 2\n",
        "  cnt += 1\n",
        "print(f'{length} 위치에서 공의 튕긴 횟수는 총 {cnt}번 입니다.')"
      ]
    },
    {
      "cell_type": "markdown",
      "metadata": {
        "id": "71WChfL94Cb_"
      },
      "source": [
        "### **[미션]** :  커피 자판기 프로그램 업그레이드\n",
        "앞에서 만들어 본 커피 자판기 머신 프로그램을 while문을 이용하여 돈을 모두 지불할 때까지 돈을 입력 받도록 프로그램 기능 수정하기"
      ]
    },
    {
      "cell_type": "code",
      "execution_count": 94,
      "metadata": {
        "id": "p0GtUXCO4Cll",
        "colab": {
          "base_uri": "https://localhost:8080/"
        },
        "outputId": "c789bca4-06f4-4854-dcf7-84e1cd45b5e0"
      },
      "outputs": [
        {
          "output_type": "stream",
          "name": "stdout",
          "text": [
            "[커피 자판기 메뉴]\n",
            "-----------------------------\n",
            "- 아메리카노 2500원\n",
            "- 카페라테   3000원\n",
            "- 카푸치노   3000원\n",
            "입니다. 원하시는 커피종류와 잔수를 입력하세요.\n",
            "-----------------------------\n",
            "아메리카노 몇잔?: 2\n",
            "카페라떼 몇잔?: 1\n",
            "카푸치노 몇잔?: 1\n",
            "지불할 총 금액은 11000원 입니다\n",
            "---------------------------\n",
            "돈을 넣어주세요: 10000\n",
            "입력한 금액이 부족합니다. 1000원을 더 넣어주세요\n",
            "---------------------------\n",
            "돈을 넣어주세요: 500\n",
            "입력한 금액이 부족합니다. 500원을 더 넣어주세요\n",
            "---------------------------\n",
            "돈을 넣어주세요: 1000\n",
            "거스름돈은 500원 입니다\n",
            "---------------------------\n",
            "커피 맛있게 드세요~~~\n"
          ]
        }
      ],
      "source": [
        "menu = '''[커피 자판기 메뉴]\n",
        "-----------------------------\n",
        "- 아메리카노 2500원\n",
        "- 카페라테   3000원\n",
        "- 카푸치노   3000원\n",
        "입니다. 원하시는 커피종류와 잔수를 입력하세요.\n",
        "-----------------------------\\n'''\n",
        "\n",
        "coffee1 = int(input(menu+\"아메리카노 몇잔?: \"))\n",
        "coffee2 = int(input('카페라떼 몇잔?: '))\n",
        "coffee3 = int(input('카푸치노 몇잔?: '))\n",
        "\n",
        "cost = coffee1*2500 + coffee2*3000 + coffee3*3000\n",
        "print(f'지불할 총 금액은 {cost}원 입니다')\n",
        "\n",
        "done = True\n",
        "while done:\n",
        "  print('---------------------------')\n",
        "  money = input('[지불할 금액: {cost}] : 돈을 넣어주세요: ')\n",
        "  money = int(money)\n",
        "  if money-cost < 0:\n",
        "    print(f'입력한 금액이 부족합니다. {cost-money}원을 더 넣어주세요')\n",
        "    cost = cost-money\n",
        "  else:\n",
        "    done=False\n",
        "    print(f'거스름돈은 {money-cost}원 입니다')\n",
        "\n",
        "print('---------------------------')\n",
        "print('커피 맛있게 드세요~~~')"
      ]
    },
    {
      "cell_type": "markdown",
      "metadata": {
        "id": "EZW369K4pptf"
      },
      "source": [
        "\n",
        "\n",
        "---\n",
        "\n"
      ]
    },
    {
      "cell_type": "markdown",
      "metadata": {
        "id": "7uloNB_JxiNy"
      },
      "source": [
        "### 4) 난수(Random number)\n"
      ]
    },
    {
      "cell_type": "markdown",
      "metadata": {
        "id": "EeamYd3167k0"
      },
      "source": [
        "|함수 | 설명 |\n",
        "|:---|:---|\n",
        "| randint(1, 10)  |  # 1~10 사이의 임의의 정수 1개 |\n",
        "| randrange(1, 10) | # 1~9 사이의 임의의 정수 1개 |\n",
        "| random()  |        # 0~1 사이의 균일분포의 임의의 실수 1개 |\n",
        "| shffle(순서가있는자료) |   # 순서가있는자료를 뒤섞기 |\n",
        "| choice(자료)     | # 자료 중에 임의의 데이터 1개 추출 |\n",
        "| sample(자료,개수)| # 자료 중에 중복되지 않게 개수만큼 추출 |"
      ]
    },
    {
      "cell_type": "markdown",
      "metadata": {
        "id": "3LGH92IV6Dpx"
      },
      "source": [
        "### [실습문제] : 임의의 두 수 합 구하기\n",
        "1부터 10까지의 범위를 갖는 임의의 두 정수 a, b를 더하여 결과 출력하기"
      ]
    },
    {
      "cell_type": "code",
      "execution_count": 95,
      "metadata": {
        "id": "kV2ZSmio5-1O",
        "colab": {
          "base_uri": "https://localhost:8080/"
        },
        "outputId": "42105b44-ad40-4b94-d55e-3ab8b9cdff82"
      },
      "outputs": [
        {
          "output_type": "stream",
          "name": "stdout",
          "text": [
            "4 + 5 = 9\n"
          ]
        }
      ],
      "source": [
        "import random\n",
        "\n",
        "a = random.randint(1, 10)\n",
        "b = random.randint(1, 10)\n",
        "print(f'{a} + {b} = {a + b}')"
      ]
    },
    {
      "cell_type": "markdown",
      "metadata": {
        "id": "JhEnxoh86IxE"
      },
      "source": [
        "### **[미션]** : 주사위 숫자 빈도수(주사위 숫자 카운팅)\n",
        "주사위를 100번 던져서 나온 숫자를 각 숫자별로 카운트하고 가장 많이 나온 숫자와 그 숫자의 횟수를 출력하시오."
      ]
    },
    {
      "cell_type": "code",
      "execution_count": 115,
      "metadata": {
        "id": "FSFZw97_6I8f",
        "colab": {
          "base_uri": "https://localhost:8080/"
        },
        "outputId": "4331cc12-5da2-4ad8-a6f2-a3c25647f2a7"
      },
      "outputs": [
        {
          "output_type": "stream",
          "name": "stdout",
          "text": [
            "[(1, 18), (2, 17), (3, 16), (4, 22), (5, 13), (6, 14)]\n",
            " 숫자별 개수: [18, 17, 16, 22, 13, 14]\n",
            "가장 많이 나온 주사위 숫자: 4, 횟수: 22\n"
          ]
        }
      ],
      "source": [
        "import random\n",
        "import collections\n",
        "\n",
        "dice = list()\n",
        "for _ in range(100):\n",
        "  dice.append(random.randint(1, 6))\n",
        "\n",
        "dice = collections.Counter(dice)\n",
        "dice = sorted(dice.items())\n",
        "print(dice)\n",
        "print(f' 숫자별 개수: {[y for x, y in dice]}')\n",
        "dice.sort(key=lambda x: x[1], reverse=True)\n",
        "print(f'가장 많이 나온 주사위 숫자: {dice[0][0]}, 횟수: {dice[0][1]}')"
      ]
    },
    {
      "cell_type": "markdown",
      "metadata": {
        "id": "Oo2eJbWR8ma8"
      },
      "source": [
        "### 5) 리스트 컴프리헨션(List Comprehension)\n",
        "- 하나 이상의 iterator(값이 순차적인 것, ex:리스트)로 부터 파이썬 자료구조를 만드는 간단한 방법\n",
        "- 반복되거나 특정 조건을 만족하는 리스트를 보다 쉽게 만들어 내기 위한 방법"
      ]
    },
    {
      "cell_type": "code",
      "execution_count": 116,
      "metadata": {
        "id": "ZtkRhrgs9D99",
        "colab": {
          "base_uri": "https://localhost:8080/"
        },
        "outputId": "d5339f24-6da8-40d8-9c94-cc84d6f00d18"
      },
      "outputs": [
        {
          "output_type": "execute_result",
          "data": {
            "text/plain": [
              "[1, 2, 3, 4, 5]"
            ]
          },
          "metadata": {},
          "execution_count": 116
        }
      ],
      "source": [
        "numList = []              # 빈리스트 정의\n",
        "for num in range(1, 6):   # 1~6 미만의 정수 [1,2,3,4,5]\n",
        "    numList.append(num)   # 리스트에 추가\n",
        "\n",
        "numList                   # 리스트 출력"
      ]
    },
    {
      "cell_type": "code",
      "execution_count": 117,
      "metadata": {
        "id": "6hKFpYVU9EG2",
        "colab": {
          "base_uri": "https://localhost:8080/"
        },
        "outputId": "747a5711-b929-4b91-b7c0-f98ba09d6639"
      },
      "outputs": [
        {
          "output_type": "execute_result",
          "data": {
            "text/plain": [
              "[1, 2, 3, 4, 5]"
            ]
          },
          "metadata": {},
          "execution_count": 117
        }
      ],
      "source": [
        "# 리스트 정의 + 요소 추가\n",
        "numList = [num for num in range(1, 6)]   # 한 줄로 정의\n",
        "\n",
        "numList"
      ]
    },
    {
      "cell_type": "code",
      "execution_count": 118,
      "metadata": {
        "id": "pbTv5eWj9vMs",
        "colab": {
          "base_uri": "https://localhost:8080/"
        },
        "outputId": "91e6f5d6-39c8-4078-d301-a8cb6300b8ee"
      },
      "outputs": [
        {
          "output_type": "execute_result",
          "data": {
            "text/plain": [
              "[2, 4, 6, 8, 10]"
            ]
          },
          "metadata": {},
          "execution_count": 118
        }
      ],
      "source": [
        "# 리스트 정의 + 조건에 맞는 + 요소 추가\n",
        "numList = [num for num in range(1, 11) if num%2 == 0] # 1~10에서 짝수만 리스트의 값으로\n",
        "numList"
      ]
    },
    {
      "cell_type": "markdown",
      "metadata": {
        "id": "3Slx7Z12lNX8"
      },
      "source": [
        "## 1-4. 함수와 모듈, 클래스"
      ]
    },
    {
      "cell_type": "markdown",
      "metadata": {
        "id": "k-VBLQwkldkf"
      },
      "source": [
        "### 1) 함수와 모듈\n",
        "* 관계 : 함수 < 모듈 < 패키지\n",
        "* 함수 정의"
      ]
    },
    {
      "cell_type": "code",
      "execution_count": 119,
      "metadata": {
        "id": "nQvz_KT18XZj",
        "colab": {
          "base_uri": "https://localhost:8080/"
        },
        "outputId": "104c10b6-198f-4fee-f966-7672637e2048"
      },
      "outputs": [
        {
          "output_type": "execute_result",
          "data": {
            "text/plain": [
              "53"
            ]
          },
          "metadata": {},
          "execution_count": 119
        }
      ],
      "source": [
        "def nSum(a, b):\n",
        "    c = a + b\n",
        "    return c\n",
        "\n",
        "nSum(50, 3)"
      ]
    },
    {
      "cell_type": "code",
      "execution_count": 120,
      "metadata": {
        "id": "ehREvq1D7alZ",
        "colab": {
          "base_uri": "https://localhost:8080/"
        },
        "outputId": "609f0176-51e9-4f9c-bdfc-2ded3fb8704a"
      },
      "outputs": [
        {
          "output_type": "stream",
          "name": "stdout",
          "text": [
            "** 로또 추첨을 시작합니다. ** \n",
            "\n",
            "로또번호: [8, 10, 14, 27, 38, 39]\n"
          ]
        }
      ],
      "source": [
        "# 로또번호 출력\n",
        "import random\n",
        "\n",
        "def lottoNumber():\n",
        "    lotto = random.sample(range(1,46), 6)\n",
        "    lotto.sort()\n",
        "    return lotto\n",
        "\n",
        "print(\"** 로또 추첨을 시작합니다. ** \\n\");\n",
        "print('로또번호: %s' % lottoNumber())"
      ]
    },
    {
      "cell_type": "markdown",
      "metadata": {
        "id": "TNMx296y-5F5"
      },
      "source": [
        "- 함수의 구조 : 매개변수와 리턴값에 따른 함수의 예"
      ]
    },
    {
      "cell_type": "code",
      "execution_count": 121,
      "metadata": {
        "id": "OXVmXOSD-lzc",
        "colab": {
          "base_uri": "https://localhost:8080/"
        },
        "outputId": "86c36f83-5afa-462f-dda3-22cb79f8239c"
      },
      "outputs": [
        {
          "output_type": "stream",
          "name": "stdout",
          "text": [
            "안녕하세요!\n",
            "None\n"
          ]
        }
      ],
      "source": [
        "# 매개변수(X), 리턴값(X)\n",
        "def func():\n",
        "    print('안녕하세요!')\n",
        "\n",
        "print( func() )"
      ]
    },
    {
      "cell_type": "code",
      "execution_count": 122,
      "metadata": {
        "id": "kaC9P4DU_Fpl",
        "colab": {
          "base_uri": "https://localhost:8080/"
        },
        "outputId": "84daa2b0-72b5-46e6-f48b-942463be31da"
      },
      "outputs": [
        {
          "output_type": "stream",
          "name": "stdout",
          "text": [
            "안녕하세요!\n",
            "처리완료!\n"
          ]
        }
      ],
      "source": [
        "# 매개변수(X), 리턴값(O)\n",
        "def func():\n",
        "    print('안녕하세요!')\n",
        "    return '처리완료!'\n",
        "\n",
        "print( func() )"
      ]
    },
    {
      "cell_type": "code",
      "execution_count": 123,
      "metadata": {
        "id": "dBSKa0U0_FvF",
        "colab": {
          "base_uri": "https://localhost:8080/"
        },
        "outputId": "2c1c831d-f3b8-4b34-88c4-fd0bc8bcd970"
      },
      "outputs": [
        {
          "output_type": "stream",
          "name": "stdout",
          "text": [
            "덧셈: 5 + 7 = 12\n",
            "None\n"
          ]
        }
      ],
      "source": [
        "# 매개변수(O), 리턴값(X)\n",
        "def func(a, b):\n",
        "    print('덧셈: %d + %d = %d' % (a, b, a+b))\n",
        "\n",
        "print( func(5, 7) )"
      ]
    },
    {
      "cell_type": "code",
      "execution_count": 124,
      "metadata": {
        "id": "lWEOpWjZ_F18",
        "colab": {
          "base_uri": "https://localhost:8080/"
        },
        "outputId": "29bacab2-b323-4cad-febc-41ea508d3c2a"
      },
      "outputs": [
        {
          "output_type": "stream",
          "name": "stdout",
          "text": [
            "덧셈: 5 + 7 = 12\n",
            "12\n"
          ]
        }
      ],
      "source": [
        "#  매개변수(O), 리턴값(O)\n",
        "def func(a, b):\n",
        "    print('덧셈: %d + %d = %d' % (a, b, a+b))\n",
        "    return a+b\n",
        "\n",
        "print( func(5, 7) )"
      ]
    },
    {
      "cell_type": "markdown",
      "metadata": {
        "id": "huZZPYbn_W6z"
      },
      "source": [
        "- 매개변수의 다양한 모양"
      ]
    },
    {
      "cell_type": "code",
      "execution_count": 125,
      "metadata": {
        "id": "_U7CvLtk_cs3",
        "colab": {
          "base_uri": "https://localhost:8080/"
        },
        "outputId": "09f3f561-cc8b-4446-de52-dec5c9fd25ec"
      },
      "outputs": [
        {
          "output_type": "stream",
          "name": "stdout",
          "text": [
            "test1() --> a:0 b:0 c:0\n",
            "test1() --> a:10 b:0 c:0\n",
            "test1() --> a:10 b:20 c:0\n",
            "test1() --> a:10 b:20 c:30\n",
            "test1() --> a:30 b:20 c:10\n"
          ]
        }
      ],
      "source": [
        "# 1. 매개변수 기본값을 주는 방법\n",
        "def test02(a=0, b=0, c=0):\n",
        "    print(f'test1() --> a:{a} b:{b} c:{c}')\n",
        "\n",
        "test02()\n",
        "test02(10)\n",
        "test02(10, 20)\n",
        "test02(10, 20, 30)\n",
        "test02(c=10, b=20, a=30)"
      ]
    },
    {
      "cell_type": "code",
      "execution_count": 126,
      "metadata": {
        "id": "nl5amTQR_c0c",
        "colab": {
          "base_uri": "https://localhost:8080/"
        },
        "outputId": "45abe8a9-37ee-45d2-9a04-54800aa2736d"
      },
      "outputs": [
        {
          "output_type": "stream",
          "name": "stdout",
          "text": [
            "args:('abc', 'def', 1, True)\n",
            "<class 'tuple'>\n",
            "0: abc\n",
            "1: def\n",
            "2: 1\n",
            "3: True\n"
          ]
        }
      ],
      "source": [
        "# 2. 무제한 인자 받기 : -> tuple 로 받기\n",
        "def test03(*args):\n",
        "    print(f'args:{args}')\n",
        "    print(type(args))\n",
        "    for i in range(len(args)):\n",
        "        print(f'{i}: {args[i]}')\n",
        "\n",
        "# 개수 제한 없이 인자를 넣을 수 있다.\n",
        "test03('abc', 'def', 1, True)"
      ]
    },
    {
      "cell_type": "code",
      "execution_count": 127,
      "metadata": {
        "id": "gCr_AXMW_c-5",
        "colab": {
          "base_uri": "https://localhost:8080/"
        },
        "outputId": "982ae551-41eb-4387-8847-27271bce2ac8"
      },
      "outputs": [
        {
          "output_type": "stream",
          "name": "stdout",
          "text": [
            "a:10 b:(20, 30, 40)\n"
          ]
        }
      ],
      "source": [
        "#  3. 일부분 무제한 받기\n",
        "def test04(a, *b):  # *b, a 순서는 안된다.\n",
        "    print(f'a:{a} b:{b}')\n",
        "\n",
        "test04(10, 20, 30, 40)  # a:10 b:(20, 30, 40)"
      ]
    },
    {
      "cell_type": "code",
      "execution_count": 128,
      "metadata": {
        "id": "E4Mz5CM4_h4Z",
        "colab": {
          "base_uri": "https://localhost:8080/"
        },
        "outputId": "b973b0b3-3c9f-4e69-9f49-ff1135c05866"
      },
      "outputs": [
        {
          "output_type": "stream",
          "name": "stdout",
          "text": [
            "args:{'name': '홍길동', 'age': 24, 'address': '강남구', 'contact': '010-1111-2222'}\n",
            "<class 'dict'>\n",
            "key:name, value:홍길동\n",
            "key:age, value:24\n",
            "key:address, value:강남구\n",
            "key:contact, value:010-1111-2222\n"
          ]
        }
      ],
      "source": [
        "# 4. 무제한 인자 받기 : -> dictionary 로 받기\n",
        "def test05(**args):\n",
        "    print(f'args:{args}')\n",
        "    print(type(args))\n",
        "    for k, v in args.items():\n",
        "        print(f'key:{k}, value:{v}')\n",
        "\n",
        "test05(name=\"홍길동\", age=24, address=\"강남구\", contact=\"010-1111-2222\")"
      ]
    },
    {
      "cell_type": "markdown",
      "metadata": {
        "id": "SBWXtjuq_svQ"
      },
      "source": [
        "### **[미션]** : 암스트롱수 구하기\n",
        "다음 조건을 참고하여 암스트롱수를 구하는 함수를 만들어 출력하는 프로그램을 만들어 보세요.\n",
        "- **암스트롱수** : 세 자리의 정수 중에서 각 자리의 수를 세 제곱한 수의 합과 자신이 같은 수"
      ]
    },
    {
      "cell_type": "code",
      "execution_count": 131,
      "metadata": {
        "id": "fE7CLtXv_s43",
        "colab": {
          "base_uri": "https://localhost:8080/"
        },
        "outputId": "e470e06e-40a9-4237-d986-ba344a73b282"
      },
      "outputs": [
        {
          "output_type": "stream",
          "name": "stdout",
          "text": [
            "[153] is armstrong number\n",
            "[370] is armstrong number\n",
            "[371] is armstrong number\n",
            "[407] is armstrong number\n"
          ]
        }
      ],
      "source": [
        "def is_armstringNumber(N):\n",
        "  nums = list(map(int, list(str(N))))\n",
        "  ret = sum([n**3 for n in nums])\n",
        "  if ret == N:\n",
        "    print(f'[{ret}] is armstrong number')\n",
        "\n",
        "for i in range(100, 1000):\n",
        "    if is_armstringNumber(i):\n",
        "        print(\"[%i] is armstrong number\" % i)"
      ]
    },
    {
      "cell_type": "markdown",
      "metadata": {
        "id": "VuLrffsIAKO9"
      },
      "source": [
        "### #전역변수, 지역변수"
      ]
    },
    {
      "cell_type": "code",
      "execution_count": 132,
      "metadata": {
        "id": "bZoGSRWcALBX",
        "colab": {
          "base_uri": "https://localhost:8080/"
        },
        "outputId": "df209b31-136f-4e92-c242-9f65a9a7f860"
      },
      "outputs": [
        {
          "output_type": "stream",
          "name": "stdout",
          "text": [
            "a:20\n",
            "a:10\n"
          ]
        }
      ],
      "source": [
        "a = 10  # 전역변수\n",
        "def test1():\n",
        "    a = 20  # 동명의 지역변수가 생성된다.\n",
        "    print(f'a:{a}')\n",
        "\n",
        "test1()  # a:20\n",
        "print(f'a:{a}')  # a:10  (전역변수 a에 영향이 없다.)"
      ]
    },
    {
      "cell_type": "code",
      "execution_count": 134,
      "metadata": {
        "id": "GFWBKfBmAfmW",
        "colab": {
          "base_uri": "https://localhost:8080/"
        },
        "outputId": "a15da7b6-4b70-4a73-fa24-feb08d0994b6"
      },
      "outputs": [
        {
          "output_type": "stream",
          "name": "stdout",
          "text": [
            "a:20\n",
            "a:20\n"
          ]
        }
      ],
      "source": [
        "def test2():\n",
        "    global a  # 전역변수 a를 사용하겠다.\n",
        "    a = 20  # 전역변수를 그대로 사용한다.\n",
        "    print(f'a:{a}')\n",
        "\n",
        "\n",
        "test2()  # a:20\n",
        "print(f'a:{a}')  # a:20  (전역변수 a의 값이 test2()에 의해 변경되었다.)"
      ]
    },
    {
      "cell_type": "markdown",
      "metadata": {
        "id": "tFIaoztVALcE"
      },
      "source": [
        "### #lambda() 함수\n",
        "한 줄로 간단하게 만들어 주는 함수"
      ]
    },
    {
      "cell_type": "code",
      "execution_count": 135,
      "metadata": {
        "id": "bY_p9NtyALqY",
        "colab": {
          "base_uri": "https://localhost:8080/"
        },
        "outputId": "9f8dd95a-26c0-49bb-84af-5f795eccb14b"
      },
      "outputs": [
        {
          "output_type": "stream",
          "name": "stdout",
          "text": [
            "30\n",
            "30\n"
          ]
        }
      ],
      "source": [
        "# 일반 함수\n",
        "def hap(num1, num2):\n",
        "    res = num1 + num2\n",
        "    return res\n",
        "print(hap(10,20))\n",
        "\n",
        "\n",
        "# lambda 함수\n",
        "hap = lambda num1, num2: num1+num2\n",
        "print(hap(10,20))"
      ]
    },
    {
      "cell_type": "markdown",
      "metadata": {
        "id": "SRkt_QUtALyn"
      },
      "source": [
        "### #map() 함수\n",
        " - 함수와 자료형(string, list, tuple)을 인자로 갖는 내장 함수\n",
        " - 첫 번째 인자는 함수명, 두 번째 인자는 순서가 있는 자료형"
      ]
    },
    {
      "cell_type": "code",
      "execution_count": 136,
      "metadata": {
        "id": "iGACxe5jAwxA"
      },
      "outputs": [],
      "source": [
        "# 리스트에 모두 10을 더하는 코드\n",
        "myList = [1,2,3,4,5]\n",
        "myList = [num+10 for num in myList]"
      ]
    },
    {
      "cell_type": "code",
      "execution_count": 137,
      "metadata": {
        "id": "8zPTIUeXAL6H",
        "colab": {
          "base_uri": "https://localhost:8080/"
        },
        "outputId": "ef78bdf2-b51e-4a2b-a9e9-27d465a9e09b"
      },
      "outputs": [
        {
          "output_type": "stream",
          "name": "stdout",
          "text": [
            "[11, 12, 13, 14, 15]\n"
          ]
        }
      ],
      "source": [
        "myList = [1,2,3,4,5]\n",
        "\n",
        "def add10(num):\n",
        "    return num+10\n",
        "\n",
        "for index, value in enumerate(myList):\n",
        "    myList[index] = add10(value)\n",
        "\n",
        "print(myList)"
      ]
    },
    {
      "cell_type": "code",
      "execution_count": 138,
      "metadata": {
        "id": "laQ-sfjIBA_L"
      },
      "outputs": [],
      "source": [
        "# 최종\n",
        "myList = [1,2,3,4,5]\n",
        "myList = list(map(lambda num:num+10, myList))"
      ]
    },
    {
      "cell_type": "markdown",
      "metadata": {
        "id": "41N9l46PBZXJ"
      },
      "source": [
        "### [실습문제] : lambda + map 사용하기\n",
        "리스트에서 3의 배수를 문자열로 변환하는 프로그램을 lambda와 map을 이용하여 만들어 보세요."
      ]
    },
    {
      "cell_type": "code",
      "execution_count": 139,
      "metadata": {
        "id": "Ssct8ptKBZhk",
        "colab": {
          "base_uri": "https://localhost:8080/"
        },
        "outputId": "3e4a5790-ca07-48dc-eaf3-058b6b74690a"
      },
      "outputs": [
        {
          "output_type": "execute_result",
          "data": {
            "text/plain": [
              "[1, 2, '3', 4, 5, '6', 7, 8, '9', 10]"
            ]
          },
          "metadata": {},
          "execution_count": 139
        }
      ],
      "source": [
        "myList = [1, 2, 3, 4, 5, 6, 7, 8, 9, 10]\n",
        "multiple3 = lambda x: str(x) if x % 3 == 0 else x\n",
        "myList = list(map(multiple3, myList))\n",
        "myList"
      ]
    },
    {
      "cell_type": "markdown",
      "metadata": {
        "id": "NPXAxebsBwRW"
      },
      "source": [
        "2개의 리스트에서 동일한 인덱스의 숫자를 곱한 값을 리스트로 출력하는프로그램을 lambda와 map을 이용하여 만들어 보세요.\n",
        "\n",
        "- myList1 = [1, 2, 3, 4, 5]\n",
        "- myList2 = [2, 4, 6, 8, 10]"
      ]
    },
    {
      "cell_type": "code",
      "execution_count": 140,
      "metadata": {
        "id": "DzaB2guoBl6F",
        "colab": {
          "base_uri": "https://localhost:8080/"
        },
        "outputId": "dc22912e-b4a5-43c9-ced3-bd82133d67ae"
      },
      "outputs": [
        {
          "output_type": "execute_result",
          "data": {
            "text/plain": [
              "[2, 8, 18, 32, 50]"
            ]
          },
          "metadata": {},
          "execution_count": 140
        }
      ],
      "source": [
        "myList1 = [1, 2, 3, 4, 5]\n",
        "myList2 = [2, 4, 6, 8, 10]\n",
        "multiply = lambda x, y: x*y\n",
        "myList = list(map(multiply, myList1, myList2))\n",
        "myList"
      ]
    },
    {
      "cell_type": "markdown",
      "metadata": {
        "id": "06P3Y5T5ClB6"
      },
      "source": [
        "### 2) 클래스"
      ]
    },
    {
      "cell_type": "markdown",
      "metadata": {
        "id": "ua8uO0qlCldV"
      },
      "source": [
        "#### 1.클래스 정의하기"
      ]
    },
    {
      "cell_type": "code",
      "execution_count": 141,
      "metadata": {
        "id": "KEkZL-sHCsnx"
      },
      "outputs": [],
      "source": [
        "class Car :\n",
        "    color = \"\"\n",
        "    speed = 0\n",
        "\n",
        "    def upSpeed(self, value) :\n",
        "        self.speed += value\n",
        "\n",
        "    def downSpeed(self, value) :\n",
        "        self.speed -= value\n",
        "\n",
        "    def printMessage() :\n",
        "        print(\"시험 출력입니다.\")"
      ]
    },
    {
      "cell_type": "markdown",
      "metadata": {
        "id": "_M8neVL5Csxn"
      },
      "source": [
        "#### 2.인스턴스 생성 및 작동 구현"
      ]
    },
    {
      "cell_type": "code",
      "execution_count": 142,
      "metadata": {
        "id": "9JRJlAJSCs7P",
        "colab": {
          "base_uri": "https://localhost:8080/"
        },
        "outputId": "bd8755c9-052b-467d-d5b4-d7bef98ef26f"
      },
      "outputs": [
        {
          "output_type": "stream",
          "name": "stdout",
          "text": [
            "자동차1의 색상은 빨강이며, 현재 속도는 30km 입니다.\n",
            "자동차1의 색상은 파랑이며, 현재 속도는 60km 입니다.\n",
            "자동차1의 색상은 노랑이며, 현재 속도는 0km 입니다.\n"
          ]
        }
      ],
      "source": [
        "## 클래스 선언 부분 ##\n",
        "class Car :\n",
        "    color = \"\"\n",
        "    speed = 0\n",
        "\n",
        "    def upSpeed(self, value) :\n",
        "        self.speed += value\n",
        "\n",
        "    def downSpeed(self, value) :\n",
        "        self.speed -= value\n",
        "\n",
        "    def printMessage() :\n",
        "        print(\"시험 출력입니다.\")\n",
        "\n",
        "## 메인 코드 부분 ##\n",
        "myCar1 = Car()\n",
        "myCar1.color = \"빨강\"\n",
        "myCar1.speed = 0\n",
        "\n",
        "myCar2 = Car()\n",
        "myCar2.color = \"파랑\"\n",
        "myCar2.speed = 0\n",
        "\n",
        "myCar3 = Car()\n",
        "myCar3.color = \"노랑\"\n",
        "myCar3.speed = 0\n",
        "\n",
        "myCar1.upSpeed(30)\n",
        "print(\"자동차1의 색상은 %s이며, 현재 속도는 %dkm 입니다.\" % (myCar1.color, myCar1.speed))\n",
        "\n",
        "myCar2.upSpeed(60)\n",
        "print(\"자동차1의 색상은 %s이며, 현재 속도는 %dkm 입니다.\" % (myCar2.color, myCar2.speed))\n",
        "\n",
        "myCar3.upSpeed(0)\n",
        "print(\"자동차1의 색상은 %s이며, 현재 속도는 %dkm 입니다.\" % (myCar3.color, myCar3.speed))"
      ]
    },
    {
      "cell_type": "markdown",
      "metadata": {
        "id": "glBcaR7yC01R"
      },
      "source": [
        "#### 3.클래스 생성자 정의\n",
        "- __init__"
      ]
    },
    {
      "cell_type": "code",
      "execution_count": 143,
      "metadata": {
        "id": "gGUvOsAMC09g",
        "colab": {
          "base_uri": "https://localhost:8080/"
        },
        "outputId": "cab25b61-673f-49e5-b89b-dce8bfb6a31f"
      },
      "outputs": [
        {
          "output_type": "stream",
          "name": "stdout",
          "text": [
            "흰색 아우디의 현재 속도는 0 입니다.\n",
            "검정색 벤츠의 현재 속도는 30 입니다.\n"
          ]
        }
      ],
      "source": [
        "## 클래스 선언 부분 ##\n",
        "class Car :\n",
        "    color = \"\"\n",
        "    name = \"\"\n",
        "    speed = 0\n",
        "\n",
        "    def __init__(self, color, name, speed) :\n",
        "        self.color = color\n",
        "        self.name = name\n",
        "        self.speed = speed\n",
        "\n",
        "    def getColor(self) :\n",
        "        return self.color\n",
        "\n",
        "    def getName(self) :\n",
        "        return self.name\n",
        "\n",
        "    def getSpeed(self) :\n",
        "        return self.speed\n",
        "\n",
        "## 변수 선언 부분 ##\n",
        "car1, car2 = None, None\n",
        "\n",
        "## 메인 코드 부분 ##\n",
        "car1 = Car(\"흰색\", \"아우디\", 0 )\n",
        "car2 = Car(\"검정색\", \"벤츠\", 30)\n",
        "\n",
        "print(\"%s %s의 현재 속도는 %d 입니다.\" % (car1.getColor(), car1.getName(), car1.getSpeed()))\n",
        "print(\"%s %s의 현재 속도는 %d 입니다.\" % (car2.getColor(), car2.getName(), car2.getSpeed()))"
      ]
    },
    {
      "cell_type": "markdown",
      "metadata": {
        "id": "iiMXXEqLC1Fi"
      },
      "source": [
        "- 클래스의 특별한 메서드"
      ]
    },
    {
      "cell_type": "code",
      "execution_count": 144,
      "metadata": {
        "id": "BEmYa_yTC1Nk",
        "colab": {
          "base_uri": "https://localhost:8080/"
        },
        "outputId": "1df4f171-8da1-4938-df35-21ee7a067ce0"
      },
      "outputs": [
        {
          "output_type": "stream",
          "name": "stdout",
          "text": [
            "100 길이의 선이 생성되었습니다\n",
            "200 길이의 선이 생성되었습니다\n",
            "선의 길이 : 100\n",
            "두 선의 길이 합 :  300\n",
            "선분 2가 더 기네요\n",
            "100 길이의 선이 삭제되었습니다\n"
          ]
        }
      ],
      "source": [
        "class Line :\n",
        "    length = 0\n",
        "    def __init__(self, length):\n",
        "        self.length = length\n",
        "        print(self.length, '길이의 선이 생성되었습니다')\n",
        "\n",
        "    def __del__(self):\n",
        "        print(self.length, '길이의 선이 삭제되었습니다')\n",
        "\n",
        "    def __repr__(self):\n",
        "        return '선의 길이 : ' + str(self.length)\n",
        "\n",
        "    def __add__(self, other):\n",
        "        return self.length + other.length\n",
        "\n",
        "    def __lt__(self, other):\n",
        "        return self.length < other.length\n",
        "\n",
        "    def __eq__(self, other):\n",
        "        return self.length == other.length\n",
        "\n",
        "## 메인 코드 부분 ##\n",
        "myLine1 = Line(100)\n",
        "myLine2 = Line(200)\n",
        "print(myLine1)\n",
        "\n",
        "print('두 선의 길이 합 : ', myLine1+myLine2)\n",
        "\n",
        "if myLine1 < myLine2 :\n",
        "    print('선분 2가 더 기네요')\n",
        "elif myLine1 == myLine2 :\n",
        "    print('두선분이 같네요')\n",
        "else :\n",
        "    print('모르겠네요.')\n",
        "\n",
        "del(myLine1)"
      ]
    },
    {
      "cell_type": "markdown",
      "metadata": {
        "id": "7WYWGkG3Do_d"
      },
      "source": [
        "#### 4.클래스 상속 (Inheritance)\n",
        "- 메서드 오버라이딩"
      ]
    },
    {
      "cell_type": "code",
      "execution_count": 145,
      "metadata": {
        "id": "T_TBlBpcDpI-",
        "colab": {
          "base_uri": "https://localhost:8080/"
        },
        "outputId": "f59f5228-05e6-47c7-c6cd-e3f51dd93261"
      },
      "outputs": [
        {
          "output_type": "stream",
          "name": "stdout",
          "text": [
            "트럭 -->현재 속도(슈퍼 클래스) : 200\n",
            "승용차 -->현재 속도(서브 클래스) : 150\n"
          ]
        }
      ],
      "source": [
        "## 클래스 선언 부분 ##\n",
        "class Car :\n",
        "    speed = 0\n",
        "\n",
        "    def upSpeed(self, value) :\n",
        "        self.speed += value\n",
        "\n",
        "        print(\"현재 속도(슈퍼 클래스) : %d\" % self.speed)\n",
        "\n",
        "class Sedan(Car) :\n",
        "    def upSpeed(self, value) :\n",
        "        self.speed += value\n",
        "\n",
        "        if self.speed > 150 :\n",
        "            self.speed = 150\n",
        "\n",
        "        print(\"현재 속도(서브 클래스) : %d\" % self.speed)\n",
        "\n",
        "class Truck(Car) :\n",
        "    pass\n",
        "\n",
        "\n",
        "## 변수 선언 부분 ##\n",
        "sedan1, truck1 = None, None\n",
        "\n",
        "## 메인 코드 부분 ##\n",
        "truck1 = Truck()\n",
        "sedan1 = Sedan()\n",
        "\n",
        "print(\"트럭 -->\",  end=\"\")\n",
        "truck1.upSpeed(200)\n",
        "\n",
        "print(\"승용차 -->\",  end=\"\")\n",
        "sedan1.upSpeed(200)"
      ]
    },
    {
      "cell_type": "markdown",
      "metadata": {
        "id": "Aw9F6q1YEGgC"
      },
      "source": [
        "### **[미션]** : 온라인 장바구니 클래스로 구현하기"
      ]
    },
    {
      "cell_type": "code",
      "execution_count": 148,
      "metadata": {
        "id": "RdISOWD4EGtB",
        "colab": {
          "base_uri": "https://localhost:8080/"
        },
        "outputId": "656a6fa9-47d5-472c-ed48-25f471fb3f8b"
      },
      "outputs": [
        {
          "output_type": "stream",
          "name": "stdout",
          "text": [
            "#제인의 장바구니\n",
            "------------------------\n",
            "* 바나나 3000 2\n",
            "* 우유 2500 1\n",
            "* 라면 4000 1\n",
            "** 전체가격 = 12500, 전체수량 = 3\n",
            "#대원의 장바구니\n",
            "------------------------\n",
            "* 라면 4000 2\n",
            "** 전체가격 = 8000, 전체수량 = 1\n"
          ]
        }
      ],
      "source": [
        "# 온라인 장바구니 구현\n",
        "class Basket:\n",
        "\n",
        "    def __init__(self,id):\n",
        "        self.id = id       #인스턴스ID\n",
        "        self.basket = dict()\n",
        "\n",
        "    #장바구니에 추가\n",
        "    def add(self, item, price, qty):\n",
        "      self.basket[item] = [price, qty]\n",
        "\n",
        "    #장바구니에서 삭제\n",
        "    def delete(self, item, qty):\n",
        "      self.basket[item][1] -= qty\n",
        "      if self.basket[item][1] == 0:\n",
        "        del self.basket[item]\n",
        "\n",
        "    #장바구니에 물건 출력\n",
        "    def printitems(self):\n",
        "      tc, tq = 0, 0\n",
        "      print(f'#{self.id}의 장바구니')\n",
        "      print('------------------------')\n",
        "      for k, v in self.basket.items():\n",
        "        print(f'* {k} {v[0]} {v[1]}')\n",
        "        tc += v[0]*v[1]\n",
        "        tq += 1\n",
        "\n",
        "      print(f'** 전체가격 = {tc}, 전체수량 = {tq}')\n",
        "\n",
        "basket1 = Basket(\"제인\")\n",
        "basket2 = Basket(\"대원\")\n",
        "\n",
        "basket1.add(\"바나나\", 3000,2)\n",
        "basket1.add(\"우유\", 2500, 2)\n",
        "basket1.add(\"라면\", 4000, 1)\n",
        "basket2.add(\"라면\", 4000, 2)\n",
        "basket1.delete(\"우유\", 1)\n",
        "\n",
        "basket1.printitems()\n",
        "basket2.printitems()"
      ]
    },
    {
      "cell_type": "markdown",
      "metadata": {
        "id": "4iqpCiPDprJt"
      },
      "source": [
        "\n",
        "\n",
        "---\n",
        "\n"
      ]
    },
    {
      "cell_type": "markdown",
      "metadata": {
        "id": "w0oNDNnbpsZn"
      },
      "source": [
        "**THE END**"
      ]
    }
  ],
  "metadata": {
    "colab": {
      "provenance": []
    },
    "kernelspec": {
      "display_name": "Python 3 (ipykernel)",
      "language": "python",
      "name": "python3"
    },
    "language_info": {
      "codemirror_mode": {
        "name": "ipython",
        "version": 3
      },
      "file_extension": ".py",
      "mimetype": "text/x-python",
      "name": "python",
      "nbconvert_exporter": "python",
      "pygments_lexer": "ipython3",
      "version": "3.10.9"
    }
  },
  "nbformat": 4,
  "nbformat_minor": 0
}